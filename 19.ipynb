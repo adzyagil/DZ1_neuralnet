{
 "cells": [
  {
   "cell_type": "markdown",
   "id": "2dfcc42e-cade-4c91-a4fa-38b6827f5db7",
   "metadata": {},
   "source": [
    "# Загрузка библиотек"
   ]
  },
  {
   "cell_type": "code",
   "execution_count": 1,
   "id": "f9c54c90-ee55-4511-9885-3e62cfdd3d9a",
   "metadata": {
    "execution": {
     "iopub.execute_input": "2025-04-30T17:17:11.647940Z",
     "iopub.status.busy": "2025-04-30T17:17:11.647034Z",
     "iopub.status.idle": "2025-04-30T17:17:12.149066Z",
     "shell.execute_reply": "2025-04-30T17:17:12.148140Z",
     "shell.execute_reply.started": "2025-04-30T17:17:11.647893Z"
    },
    "tags": []
   },
   "outputs": [],
   "source": [
    "import numpy as np\n",
    "import pandas as pd \n",
    "import matplotlib.pyplot as plt\n",
    "import seaborn as sns\n",
    "import os\n",
    "from PIL import Image\n",
    "from tqdm.notebook import tqdm"
   ]
  },
  {
   "cell_type": "code",
   "execution_count": 2,
   "id": "04b35d63-a3fc-4d54-80fe-9b8b657707fa",
   "metadata": {
    "execution": {
     "iopub.execute_input": "2025-04-30T17:17:12.151260Z",
     "iopub.status.busy": "2025-04-30T17:17:12.150411Z",
     "iopub.status.idle": "2025-04-30T17:17:13.871442Z",
     "shell.execute_reply": "2025-04-30T17:17:13.870589Z",
     "shell.execute_reply.started": "2025-04-30T17:17:12.151217Z"
    },
    "tags": []
   },
   "outputs": [],
   "source": [
    "import torch\n",
    "import torchvision\n",
    "import torch.nn as nn\n",
    "import torch.nn.functional as F\n",
    "import torch.optim as optim\n",
    "from torchvision import transforms as T\n",
    "from torch.utils.data import random_split, DataLoader,Dataset\n",
    "import albumentations as A\n",
    "from albumentations.pytorch import ToTensorV2\n",
    "from torchvision.models import resnet18, ResNet18_Weights\n",
    "import torchvision.utils as vutils"
   ]
  },
  {
   "cell_type": "code",
   "execution_count": null,
   "id": "6aa5bf00-6c7a-41aa-8eb2-067061b8fc2e",
   "metadata": {
    "tags": []
   },
   "outputs": [],
   "source": []
  },
  {
   "cell_type": "markdown",
   "id": "877c862f-0cb3-47d1-ad1d-a3ead6e60451",
   "metadata": {},
   "source": [
    "# Пишем класс датасет (выгрузка данныхх из папки)"
   ]
  },
  {
   "cell_type": "code",
   "execution_count": 3,
   "id": "a5e412df-33dd-482c-bd90-39571fb787e7",
   "metadata": {
    "execution": {
     "iopub.execute_input": "2025-04-30T17:17:14.841110Z",
     "iopub.status.busy": "2025-04-30T17:17:14.839983Z",
     "iopub.status.idle": "2025-04-30T17:17:14.921987Z",
     "shell.execute_reply": "2025-04-30T17:17:14.921223Z",
     "shell.execute_reply.started": "2025-04-30T17:17:14.841064Z"
    },
    "tags": []
   },
   "outputs": [],
   "source": [
    "class CustomImageDataset(Dataset):\n",
    "    def __init__(self, root_dir, mode='train', transform=None):\n",
    "        self.root_dir = root_dir\n",
    "        self.mode = mode\n",
    "        self.transform = transform\n",
    "        self.image_paths = []\n",
    "        self.labels = []\n",
    "        #определяем загрузки для train папкм\n",
    "        if self.mode == 'train':\n",
    "            train_dir = os.path.join(self.root_dir, 'train')\n",
    "            class_folders = os.listdir(train_dir)\n",
    "            class_folders = [folder for folder in class_folders if folder.isdigit()]\n",
    "            class_folders = sorted(class_folders, key=lambda x: int(x))#так как папкаи с классами перемешаны, сортируем по классам\n",
    "            \n",
    "            for label_str in class_folders:\n",
    "                label_dir = os.path.join(train_dir, label_str)\n",
    "                if os.path.isdir(label_dir):\n",
    "                    image_files = [img for img in os.listdir(label_dir) if img.endswith('.png')]\n",
    "                    image_files = sorted(image_files) \n",
    "\n",
    "                    for img_file in image_files:\n",
    "                        img_path = os.path.join(label_dir, img_file)\n",
    "                        self.image_paths.append(img_path)\n",
    "                        self.labels.append(int(label_str))\n",
    "        #выгружаем тестовые данные\n",
    "        elif self.mode == 'test':\n",
    "            test_dir = os.path.join(self.root_dir, 'test')\n",
    "            #их сортируем для будущего предикта\n",
    "\n",
    "            self.image_paths = [\n",
    "                os.path.join(test_dir, f)\n",
    "                for f in sorted(os.listdir(test_dir), key=lambda x: int(os.path.splitext(x)[0]))\n",
    "                if f.endswith('.png')\n",
    "            ]\n",
    "            self.labels = None\n",
    "\n",
    "    def __len__(self):\n",
    "        return len(self.image_paths)\n",
    "    def __getitem__(self, idx):\n",
    "        image_path = self.image_paths[idx]\n",
    "    \n",
    "\n",
    "        if self.labels is not None:\n",
    "            label = self.labels[idx]\n",
    "        else:\n",
    "            label = -1 \n",
    "    \n",
    "        image = Image.open(image_path).convert(\"RGB\")\n",
    "\n",
    "        if self.transform:\n",
    "   \n",
    "            if isinstance(self.transform, (A.BasicTransform, A.Compose)):\n",
    "                image_np = np.array(image)\n",
    "                transformed = self.transform(image=image_np)\n",
    "                image = transformed['image']\n",
    "            else:\n",
    "                image = self.transform(image)\n",
    "\n",
    "        return image, label"
   ]
  },
  {
   "cell_type": "markdown",
   "id": "ea40e946-5c6b-4eee-a8af-608a150f3486",
   "metadata": {},
   "source": [
    "# EDA анализ+анализ классов"
   ]
  },
  {
   "cell_type": "code",
   "execution_count": 4,
   "id": "a6e7d8ba-9b84-4ce3-940a-446a69af8f62",
   "metadata": {
    "execution": {
     "iopub.execute_input": "2025-04-30T17:17:15.711612Z",
     "iopub.status.busy": "2025-04-30T17:17:15.710590Z",
     "iopub.status.idle": "2025-04-30T17:17:15.774345Z",
     "shell.execute_reply": "2025-04-30T17:17:15.773537Z",
     "shell.execute_reply.started": "2025-04-30T17:17:15.711567Z"
    },
    "tags": []
   },
   "outputs": [
    {
     "name": "stdout",
     "output_type": "stream",
     "text": [
      "0\n",
      "torch.Size([3, 32, 32])\n"
     ]
    }
   ],
   "source": [
    "#напишем базовый пайплайн для базовой модели и анализа данных в папках (только нормализация и превращение в тензор)\n",
    "transform_basic = A.Compose([\n",
    "    #A.Normalize(mean=(0.4914, 0.4822, 0.4465), std=(0.2023, 0.1994, 0.2010)),не нужна пока, иначе не рисуется нормально\n",
    "    ToTensorV2()\n",
    "])\n",
    "full_dataset_0 = CustomImageDataset(root_dir='data', mode='train', transform=transform_basic)#без аугментации, для анализа классов и изучения представителей классов\n",
    "for item in full_dataset_0:\n",
    "    break\n",
    "print(item[1])#класс картинки\n",
    "print(item[0].shape)#размер картинок\n"
   ]
  },
  {
   "cell_type": "code",
   "execution_count": 5,
   "id": "5d03dd18-a028-42b4-a388-6aa059b088fc",
   "metadata": {
    "execution": {
     "iopub.execute_input": "2025-04-30T17:17:16.422426Z",
     "iopub.status.busy": "2025-04-30T17:17:16.421475Z",
     "iopub.status.idle": "2025-04-30T17:17:16.466169Z",
     "shell.execute_reply": "2025-04-30T17:17:16.465383Z",
     "shell.execute_reply.started": "2025-04-30T17:17:16.422387Z"
    },
    "tags": []
   },
   "outputs": [
    {
     "name": "stdout",
     "output_type": "stream",
     "text": [
      "Картинок в датасете: 9510\n"
     ]
    }
   ],
   "source": [
    "print(f\"Картинок в датасете: {len(full_dataset_0)}\")"
   ]
  },
  {
   "cell_type": "code",
   "execution_count": 6,
   "id": "06d55969-bdda-438f-bcfe-9003147d39ce",
   "metadata": {
    "execution": {
     "iopub.execute_input": "2025-04-30T17:17:16.912314Z",
     "iopub.status.busy": "2025-04-30T17:17:16.911325Z",
     "iopub.status.idle": "2025-04-30T17:17:22.095828Z",
     "shell.execute_reply": "2025-04-30T17:17:22.094953Z",
     "shell.execute_reply.started": "2025-04-30T17:17:16.912273Z"
    }
   },
   "outputs": [
    {
     "data": {
      "image/png": "[encoded data removed]",
      "text/plain": [
       "<Figure size 1200x600 with 1 Axes>"
      ]
     },
     "metadata": {},
     "output_type": "display_data"
    }
   ],
   "source": [
    "#проверим сбалансированность классов\n",
    "class_inst = {}\n",
    "for item in full_dataset_0:\n",
    "    cur_class = item[1] \n",
    "    if cur_class in class_inst:\n",
    "        class_inst[cur_class] += 1\n",
    "    else:\n",
    "        class_inst[cur_class] = 1\n",
    "plt.figure(figsize=(12, 6))\n",
    "plt.bar(class_inst.keys(), class_inst.values())\n",
    "plt.xlabel('Класс')\n",
    "plt.ylabel('Число картинок')\n",
    "plt.title('Распределение 100 классов')\n",
    "plt.show()"
   ]
  },
  {
   "cell_type": "code",
   "execution_count": 7,
   "id": "80ee4fab-cf2c-4d5e-8343-585b20890a18",
   "metadata": {
    "execution": {
     "iopub.execute_input": "2025-04-30T17:17:22.098085Z",
     "iopub.status.busy": "2025-04-30T17:17:22.097174Z",
     "iopub.status.idle": "2025-04-30T17:17:22.831743Z",
     "shell.execute_reply": "2025-04-30T17:17:22.830960Z",
     "shell.execute_reply.started": "2025-04-30T17:17:22.098047Z"
    }
   },
   "outputs": [
    {
     "data": {
      "image/png": "[encoded data removed]",
      "text/plain": [
       "<Figure size 1600x500 with 16 Axes>"
      ]
     },
     "metadata": {},
     "output_type": "display_data"
    }
   ],
   "source": [
    "#посмотрим на несколько предстваителей рандомных классов\n",
    "cols = 8\n",
    "rows = 2\n",
    "fig = plt.figure(figsize=(2 * cols, 2.5 * rows))\n",
    "for i in range(cols):\n",
    "    for j in range(rows):\n",
    "        random_index = np.random.randint(0, len(full_dataset_0))\n",
    "        img, label = full_dataset_0[random_index]\n",
    "        ax = fig.add_subplot(rows, cols, i * rows + j + 1)\n",
    "        ax.grid(False)\n",
    "        ax.set_xticks([])\n",
    "        ax.set_yticks([])\n",
    "        img = img.permute(1, 2, 0).numpy()\n",
    "        ax.imshow(img)\n",
    "        ax.set_xlabel(label)\n",
    "\n",
    "plt.tight_layout()\n",
    "plt.show()"
   ]
  },
  {
   "cell_type": "code",
   "execution_count": 8,
   "id": "a348dc1e-a437-4412-b684-da92b0d65d2e",
   "metadata": {
    "execution": {
     "iopub.execute_input": "2025-04-30T17:17:22.833379Z",
     "iopub.status.busy": "2025-04-30T17:17:22.832964Z",
     "iopub.status.idle": "2025-04-30T17:17:23.115086Z",
     "shell.execute_reply": "2025-04-30T17:17:23.114288Z",
     "shell.execute_reply.started": "2025-04-30T17:17:22.833354Z"
    }
   },
   "outputs": [
    {
     "data": {
      "image/png": "[encoded data removed]",
      "text/plain": [
       "<Figure size 640x480 with 2 Axes>"
      ]
     },
     "metadata": {},
     "output_type": "display_data"
    }
   ],
   "source": [
    "transform = T.Compose([\n",
    "    T.RandomHorizontalFlip(),\n",
    "    T.RandomRotation(15),\n",
    "    T.ColorJitter(brightness=0.5, contrast=0.5, saturation=0.5),\n",
    "])\n",
    "\n",
    "img, label = full_dataset_0[0]\n",
    "augmented_img = transform(img)\n",
    "\n",
    "plt.subplot(1,2,1)\n",
    "plt.imshow(img.permute(1,2,0))\n",
    "plt.title('Original')\n",
    "\n",
    "plt.subplot(1,2,2)\n",
    "plt.imshow(augmented_img.permute(1,2,0))\n",
    "plt.title('Augmented')\n",
    "\n",
    "plt.show()"
   ]
  },
  {
   "cell_type": "markdown",
   "id": "864f894b-c11a-44c4-9174-3965e6031902",
   "metadata": {},
   "source": [
    "Выводы:\n",
    "\n",
    " 1)в train датасете 9510 картинок размера 32*32*3 и 100 классов\n",
    " \n",
    " 2)Классы распределены не совсем равномерно, но совсем дисбалансных классов нет (где наблюдений меньше 20, так что модель может достаточно хорошо обучиться для каждого класса "
   ]
  },
  {
   "cell_type": "markdown",
   "id": "55a22d5e-43e9-47a6-b43d-e366bf9b47cb",
   "metadata": {},
   "source": [
    "# Аугментация для Train и пайплайн"
   ]
  },
  {
   "cell_type": "code",
   "execution_count": 9,
   "id": "861cd12c-bfce-43ee-860e-ce2c2c752105",
   "metadata": {
    "execution": {
     "iopub.execute_input": "2025-04-30T17:17:23.117579Z",
     "iopub.status.busy": "2025-04-30T17:17:23.116522Z",
     "iopub.status.idle": "2025-04-30T17:17:23.149365Z",
     "shell.execute_reply": "2025-04-30T17:17:23.148533Z",
     "shell.execute_reply.started": "2025-04-30T17:17:23.117539Z"
    },
    "tags": []
   },
   "outputs": [],
   "source": [
    "#это пайплайн с аугментацией для навороченной модели\n",
    "train_transform = A.Compose([\n",
    "    #A.Resize(224, 224),\n",
    "    A.RandomCrop(width=32, height=32),\n",
    "    A.HorizontalFlip(p=0.5),\n",
    "    A.ShiftScaleRotate(shift_limit=0.05, scale_limit=0.1, rotate_limit=15, p=0.5),\n",
    "    A.RandomBrightnessContrast(p=0.2),\n",
    "    A.RGBShift(r_shift_limit=10, g_shift_limit=10, b_shift_limit=10, p=0.2),\n",
    "    A.CoarseDropout(p=0.3),\n",
    "    A.Normalize(mean=(0.4914, 0.4822, 0.4465), std=(0.2023, 0.1994, 0.2010)),\n",
    "    ToTensorV2()\n",
    "])\n",
    "\n",
    "val_test_transform = A.Compose([\n",
    "    #A.Resize(224, 224),\n",
    "    A.Normalize(mean=(0.4914, 0.4822, 0.4465), std=(0.2023, 0.1994, 0.2010)),\n",
    "    ToTensorV2()\n",
    "])\n",
    "\n"
   ]
  },
  {
   "cell_type": "code",
   "execution_count": 10,
   "id": "d386a322-71b6-4638-a388-6108e9acfb5e",
   "metadata": {
    "execution": {
     "iopub.execute_input": "2025-04-30T17:17:26.998863Z",
     "iopub.status.busy": "2025-04-30T17:17:26.998348Z",
     "iopub.status.idle": "2025-04-30T17:17:27.012004Z",
     "shell.execute_reply": "2025-04-30T17:17:27.011281Z",
     "shell.execute_reply.started": "2025-04-30T17:17:26.998827Z"
    }
   },
   "outputs": [],
   "source": [
    "# для базовой модели с отражением по вертикали и тд\n",
    "basic_train_transform = A.Compose([\n",
    "    #A.Resize(224, 224),\n",
    "    A.HorizontalFlip(p=0.5),\n",
    "    A.ShiftScaleRotate(shift_limit=0.05, scale_limit=0.1, rotate_limit=15, p=0.5),\n",
    "    A.Normalize(mean=(0.4914, 0.4822, 0.4465), std=(0.2023, 0.1994, 0.2010)),\n",
    "    ToTensorV2()\n",
    "])"
   ]
  },
  {
   "cell_type": "code",
   "execution_count": 11,
   "id": "c028b11e-1627-4baf-84b4-dd30ca2dc667",
   "metadata": {
    "execution": {
     "iopub.execute_input": "2025-04-30T17:17:27.740351Z",
     "iopub.status.busy": "2025-04-30T17:17:27.739372Z",
     "iopub.status.idle": "2025-04-30T17:17:27.872885Z",
     "shell.execute_reply": "2025-04-30T17:17:27.871974Z",
     "shell.execute_reply.started": "2025-04-30T17:17:27.740309Z"
    },
    "tags": []
   },
   "outputs": [],
   "source": [
    "#выгружаем данные\n",
    "full_dataset = CustomImageDataset(root_dir='data',mode='train',transform=None)\n",
    "dataset_size = len(full_dataset)\n",
    "train_size = int(0.8 * dataset_size)\n",
    "val_size = int(0.2 * dataset_size)\n",
    "\n",
    "train_indices, val_indices = torch.utils.data.random_split(range(dataset_size),[train_size, val_size])#сплитуем данные\n",
    "\n",
    "#выгружаем данные для валидации и трейна\n",
    "train_dataset = torch.utils.data.Subset(\n",
    "    CustomImageDataset(root_dir='data',mode='train',transform=train_transform),train_indices)\n",
    "test_dataset = torch.utils.data.Subset(\n",
    "    CustomImageDataset(root_dir='data',mode='train',transform=val_test_transform),val_indices)"
   ]
  },
  {
   "cell_type": "code",
   "execution_count": 12,
   "id": "d66c0c31-0f64-44ca-8671-4353a653a1e0",
   "metadata": {
    "execution": {
     "iopub.execute_input": "2025-04-30T17:17:28.598348Z",
     "iopub.status.busy": "2025-04-30T17:17:28.597424Z",
     "iopub.status.idle": "2025-04-30T17:17:28.610894Z",
     "shell.execute_reply": "2025-04-30T17:17:28.610048Z",
     "shell.execute_reply.started": "2025-04-30T17:17:28.598308Z"
    },
    "tags": []
   },
   "outputs": [],
   "source": [
    "train_loader = DataLoader(train_dataset,shuffle=True,batch_size=64,num_workers=4)\n",
    "test_loader = DataLoader(test_dataset,shuffle=False,batch_size=64,num_workers=4)"
   ]
  },
  {
   "cell_type": "code",
   "execution_count": 13,
   "id": "39e0bacc-ded9-4dd0-bf29-020e525dedb2",
   "metadata": {
    "execution": {
     "iopub.execute_input": "2025-04-30T17:17:29.055575Z",
     "iopub.status.busy": "2025-04-30T17:17:29.054508Z",
     "iopub.status.idle": "2025-04-30T17:17:29.141882Z",
     "shell.execute_reply": "2025-04-30T17:17:29.141033Z",
     "shell.execute_reply.started": "2025-04-30T17:17:29.055532Z"
    }
   },
   "outputs": [],
   "source": [
    "#то же самое на базовый датасет\n",
    "train_dataset_basic = torch.utils.data.Subset(\n",
    "    CustomImageDataset(root_dir='data',mode='train',transform=basic_train_transform),train_indices)\n",
    "test_dataset_basic = torch.utils.data.Subset(\n",
    "    CustomImageDataset(root_dir='data',mode='train',transform=val_test_transform),val_indices)\n",
    "train_loader_basic = DataLoader(train_dataset_basic,shuffle=True,batch_size=64,num_workers=4)\n",
    "test_loader_basic = DataLoader(test_dataset_basic,shuffle=False,batch_size=64,num_workers=4)"
   ]
  },
  {
   "cell_type": "markdown",
   "id": "c3ab3457-8bb6-4961-878f-9d7df130edfc",
   "metadata": {},
   "source": [
    "# Функции"
   ]
  },
  {
   "cell_type": "code",
   "execution_count": null,
   "id": "d5c6f2fb-c837-40b8-a15f-fbad49848ce1",
   "metadata": {},
   "outputs": [],
   "source": []
  },
  {
   "cell_type": "code",
   "execution_count": 14,
   "id": "e893bfc5-d212-4c6f-8161-b0e7e08d93d9",
   "metadata": {
    "execution": {
     "iopub.execute_input": "2025-04-30T17:17:30.231263Z",
     "iopub.status.busy": "2025-04-30T17:17:30.230043Z",
     "iopub.status.idle": "2025-04-30T17:17:30.290223Z",
     "shell.execute_reply": "2025-04-30T17:17:30.289478Z",
     "shell.execute_reply.started": "2025-04-30T17:17:30.231216Z"
    },
    "tags": []
   },
   "outputs": [],
   "source": [
    "device = torch.device(\"cuda\" if torch.cuda.is_available() else \"cpu\")\n",
    "device\n",
    "def to_device(data, device):\n",
    "    \"\"\"Move tensor(s) to chosen device\"\"\"\n",
    "    if isinstance(data, (list,tuple)):\n",
    "        return [to_device(x, device) for x in data]\n",
    "    return data.to(device, non_blocking=True)"
   ]
  },
  {
   "cell_type": "code",
   "execution_count": 15,
   "id": "7926121c-e2f2-42f3-b856-e8d6544d8e0f",
   "metadata": {
    "execution": {
     "iopub.execute_input": "2025-04-30T17:17:30.816886Z",
     "iopub.status.busy": "2025-04-30T17:17:30.815881Z",
     "iopub.status.idle": "2025-04-30T17:17:30.872925Z",
     "shell.execute_reply": "2025-04-30T17:17:30.872128Z",
     "shell.execute_reply.started": "2025-04-30T17:17:30.816852Z"
    },
    "tags": []
   },
   "outputs": [],
   "source": [
    "def accuracy(logits,targets):\n",
    "    predicted_classes = logits.argmax(dim=1)\n",
    "    accuracy_value = (predicted_classes==targets).float().mean()\n",
    "    return accuracy_value\n",
    "\n",
    "def evaluate(model,test_loader):\n",
    "    model.eval()\n",
    "    with torch.no_grad():\n",
    "        results = [model.validation_step(batch) for batch in test_loader]\n",
    "    return model.validation_epoch_end(results)\n",
    "\n",
    "def get_lr(optimizer):\n",
    "    return optimizer.param_groups[0]['lr']  \n",
    "\n",
    "def conv_block(in_channels,out_channels,pool=False):\n",
    "    block = nn.Sequential(\n",
    "        nn.Conv2d(in_channels,out_channels,kernel_size=3,padding=1),\n",
    "        nn.BatchNorm2d(out_channels),\n",
    "        nn.ReLU(inplace=True),\n",
    "        nn.MaxPool2d(2) if pool else nn.Identity()\n",
    "    )\n",
    "    return block"
   ]
  },
  {
   "cell_type": "code",
   "execution_count": null,
   "id": "4914e77c-8ae8-4563-8154-475609db1885",
   "metadata": {
    "tags": []
   },
   "outputs": [],
   "source": []
  },
  {
   "cell_type": "code",
   "execution_count": 16,
   "id": "b1d1b226-7827-410c-8bbd-4bcf8d459627",
   "metadata": {
    "execution": {
     "iopub.execute_input": "2025-04-30T17:17:31.902486Z",
     "iopub.status.busy": "2025-04-30T17:17:31.901386Z",
     "iopub.status.idle": "2025-04-30T17:17:31.922831Z",
     "shell.execute_reply": "2025-04-30T17:17:31.922016Z",
     "shell.execute_reply.started": "2025-04-30T17:17:31.902444Z"
    },
    "tags": []
   },
   "outputs": [],
   "source": [
    "def fit_one_cycle(epochs,max_lr,model,train_loader,test_loader, \n",
    "                  weight_decay,grad_clip, opt_func=torch.optim.SGD,\n",
    "                  stop_lr=1e-5,monitor_metric='val_loss',mode='min'):\n",
    "\n",
    "    torch.cuda.empty_cache()\n",
    "    history = []\n",
    "#здесь вормап реализован в шедулере\n",
    "    optimizer = opt_func(model.parameters(), max_lr, weight_decay=weight_decay)\n",
    "    sched = torch.optim.lr_scheduler.OneCycleLR(\n",
    "        optimizer, max_lr, epochs=epochs, steps_per_epoch=len(train_loader)\n",
    "    )\n",
    "\n",
    "    best_score = float('inf') if mode == 'min' else -float('inf')\n",
    "    best_model_state = None\n",
    "\n",
    "    for epoch in range(epochs):\n",
    "        model.train()\n",
    "        train_losses = []\n",
    "        lrs = []\n",
    "        for batch in train_loader:\n",
    "            loss = model.training_step(batch)\n",
    "            train_losses.append(loss)\n",
    "            loss.backward()\n",
    "            if grad_clip:\n",
    "                nn.utils.clip_grad_value_(model.parameters(),grad_clip)\n",
    "\n",
    "            optimizer.step()\n",
    "            optimizer.zero_grad()\n",
    "            lrs.append(get_lr(optimizer))\n",
    "            sched.step()\n",
    "\n",
    "        #ранняя остановка\n",
    "        current_lr = get_lr(optimizer)\n",
    "        if current_lr < stop_lr:\n",
    "            print(f\"Ранняя остановка {epoch+1}, lr={current_lr:.6f}\")\n",
    "            break\n",
    "\n",
    "        result = evaluate(model, test_loader)\n",
    "        result['train_loss'] = torch.stack(train_losses).mean().item()\n",
    "        result['lrs'] = lrs\n",
    "        model.epoch_end(epoch, result)\n",
    "        history.append(result)\n",
    "        #хистори сохраняем для графиков\n",
    "        #сохряняем метрики модели, чтобы найти лучшую\n",
    "        score = result[monitor_metric]\n",
    "        is_better = (score < best_score) if mode == 'min' else (score > best_score)\n",
    "        if is_better:\n",
    "            best_score = score\n",
    "            best_model_state = model.state_dict()\n",
    "\n",
    "    if best_model_state:\n",
    "        model.load_state_dict(best_model_state)\n",
    "        print(f\"Лучшая модель ({monitor_metric}={best_score:.4f})\")\n",
    "\n",
    "    return history"
   ]
  },
  {
   "cell_type": "code",
   "execution_count": 17,
   "id": "d2bd179e-8319-4545-84c0-1bd3ee4459b2",
   "metadata": {
    "execution": {
     "iopub.execute_input": "2025-04-30T17:17:32.529043Z",
     "iopub.status.busy": "2025-04-30T17:17:32.527920Z",
     "iopub.status.idle": "2025-04-30T17:17:32.559822Z",
     "shell.execute_reply": "2025-04-30T17:17:32.559022Z",
     "shell.execute_reply.started": "2025-04-30T17:17:32.528998Z"
    },
    "tags": []
   },
   "outputs": [],
   "source": [
    "#отрисовываем лоси, аккураси и лернинг рейт\n",
    "def plot_metrics(history):\n",
    "    train_losses = [x['train_loss'] for x in history]\n",
    "    val_losses = [x['val_loss'] for x in history]\n",
    "    val_accs = [x['val_acc'] for x in history]\n",
    "    lrs = history[0]['lrs'] if 'lrs' in history[0] else None\n",
    "    epochs = range(1, len(history) + 1)\n",
    "    plt.figure(figsize=(15, 5))\n",
    "\n",
    " \n",
    "    plt.subplot(1, 3, 1)\n",
    "    plt.plot(epochs,train_losses,label='Train Loss')\n",
    "    plt.plot(epochs,val_losses,label='Val Loss')\n",
    "    plt.xlabel('Epoch')\n",
    "    plt.ylabel('Loss')\n",
    "    plt.title('Accuracy ans losses')\n",
    "    plt.legend()\n",
    "    plt.subplot(1,3,2)\n",
    "    plt.plot(epochs,val_accs,label='Val Accuracy',color='green')\n",
    "    plt.xlabel('Epoch')\n",
    "    plt.ylabel('Accuracy')\n",
    "    plt.title('Validation Accuracy')\n",
    "    plt.legend()\n",
    "\n",
    "    if lrs:\n",
    "        plt.subplot(1, 3, 3)\n",
    "        plt.plot(range(len(lrs)),lrs,label='Learning Rate',color='red')\n",
    "        plt.xlabel('Batch')\n",
    "        plt.ylabel('LR')\n",
    "        plt.title('Learning Rate Schedule')\n",
    "        plt.legend()\n",
    "\n",
    "    plt.tight_layout()\n",
    "    plt.show()"
   ]
  },
  {
   "cell_type": "markdown",
   "id": "135b9055-79b2-4450-8635-50407aa9866e",
   "metadata": {},
   "source": [
    "# Обучим базовую модель"
   ]
  },
  {
   "cell_type": "code",
   "execution_count": 18,
   "id": "4e7521b5-435e-431d-9e82-9fb809e4b3b0",
   "metadata": {
    "execution": {
     "iopub.execute_input": "2025-04-30T17:17:34.210681Z",
     "iopub.status.busy": "2025-04-30T17:17:34.209757Z",
     "iopub.status.idle": "2025-04-30T17:17:34.244047Z",
     "shell.execute_reply": "2025-04-30T17:17:34.243329Z",
     "shell.execute_reply.started": "2025-04-30T17:17:34.210641Z"
    },
    "tags": []
   },
   "outputs": [],
   "source": [
    "#это базовая модель без навороченных аугментаций, дропаутов, батч нормализаций и прочего\n",
    "class BasicCNN(nn.Module):\n",
    "    def __init__(self, num_classes=100):\n",
    "        super(BasicCNN, self).__init__()\n",
    "        self.conv1=nn.Conv2d(3,32,kernel_size=3,padding=1)   \n",
    "        self.conv2=nn.Conv2d(32,64,kernel_size=3,padding=1) \n",
    "        self.pool=nn.MaxPool2d(2,2)                           \n",
    "        self.fc1=nn.Linear(64 * 16 * 16, 128)\n",
    "        self.fc2=nn.Linear(128,num_classes)\n",
    "    def forward(self,x):\n",
    "        x=F.relu(self.conv1(x))        \n",
    "        x=self.pool(F.relu(self.conv2(x))) \n",
    "        x=x.view(x.size(0), -1) \n",
    "        x=F.relu(self.fc1(x))\n",
    "        x=self.fc2(x)\n",
    "        return x\n",
    "    def training_step(self, batch):\n",
    "        images,labels=batch\n",
    "        images,labels=images.to(self.device),labels.to(self.device)\n",
    "        out=self(images)\n",
    "        loss=F.cross_entropy(out,labels)\n",
    "        return loss\n",
    "    def validation_step(self,batch):\n",
    "        images,labels=batch\n",
    "        images,labels=images.to(self.device),labels.to(self.device)\n",
    "        out=self(images)\n",
    "        loss=F.cross_entropy(out,labels)\n",
    "        acc=accuracy(out, labels)\n",
    "        return {'val_loss':loss.detach(),'val_acc': acc}\n",
    "    def validation_epoch_end(self,outputs):\n",
    "        batch_losses=[x['val_loss'] for x in outputs]\n",
    "        epoch_loss=torch.stack(batch_losses).mean()\n",
    "        batch_accs=[x['val_acc'] for x in outputs]\n",
    "        epoch_acc=torch.stack(batch_accs).mean()\n",
    "        return {'val_loss': epoch_loss.item(),'val_acc': epoch_acc.item()}\n",
    "    def epoch_end(self,epoch,result):\n",
    "        print(f\"Epoch [{epoch}], last_lr: {result['lrs'][-1]:.5f}, \"\n",
    "              f\"train_loss: {result['train_loss']:.4f}, val_loss: {result['val_loss']:.4f}, \"\n",
    "              f\"val_acc: {result['val_acc']:.4f}\")\n",
    "    @property\n",
    "    def device(self):\n",
    "        return next(self.parameters()).device"
   ]
  },
  {
   "cell_type": "code",
   "execution_count": 19,
   "id": "16350ad0-c247-4124-8190-986cfcc00237",
   "metadata": {
    "execution": {
     "iopub.execute_input": "2025-04-30T17:17:34.789254Z",
     "iopub.status.busy": "2025-04-30T17:17:34.788100Z",
     "iopub.status.idle": "2025-04-30T17:18:48.633236Z",
     "shell.execute_reply": "2025-04-30T17:18:48.632248Z",
     "shell.execute_reply.started": "2025-04-30T17:17:34.789209Z"
    },
    "tags": []
   },
   "outputs": [
    {
     "name": "stdout",
     "output_type": "stream",
     "text": [
      "Epoch [0], last_lr: 0.00069, train_loss: 4.2858, val_loss: 3.9652, val_acc: 0.1086\n",
      "Epoch [1], last_lr: 0.00152, train_loss: 3.6963, val_loss: 3.6120, val_acc: 0.1644\n",
      "Epoch [2], last_lr: 0.00279, train_loss: 3.3919, val_loss: 3.5131, val_acc: 0.1675\n",
      "Epoch [3], last_lr: 0.00436, train_loss: 3.1894, val_loss: 3.5034, val_acc: 0.1878\n",
      "Epoch [4], last_lr: 0.00603, train_loss: 3.1328, val_loss: 3.5532, val_acc: 0.1954\n",
      "Epoch [5], last_lr: 0.00760, train_loss: 3.1465, val_loss: 3.5776, val_acc: 0.1825\n",
      "Epoch [6], last_lr: 0.00887, train_loss: 3.1282, val_loss: 3.6267, val_acc: 0.1849\n",
      "Epoch [7], last_lr: 0.00971, train_loss: 3.1655, val_loss: 3.8045, val_acc: 0.1815\n",
      "Epoch [8], last_lr: 0.01000, train_loss: 3.0985, val_loss: 3.7689, val_acc: 0.1784\n",
      "Epoch [9], last_lr: 0.00994, train_loss: 2.9913, val_loss: 3.7621, val_acc: 0.1933\n",
      "Epoch [10], last_lr: 0.00978, train_loss: 2.8235, val_loss: 3.8100, val_acc: 0.2057\n",
      "Epoch [11], last_lr: 0.00950, train_loss: 2.7252, val_loss: 3.6423, val_acc: 0.2072\n",
      "Epoch [12], last_lr: 0.00913, train_loss: 2.6429, val_loss: 3.7037, val_acc: 0.2118\n",
      "Epoch [13], last_lr: 0.00867, train_loss: 2.5239, val_loss: 3.8299, val_acc: 0.1912\n",
      "Epoch [14], last_lr: 0.00812, train_loss: 2.3764, val_loss: 3.8149, val_acc: 0.1886\n",
      "Epoch [15], last_lr: 0.00750, train_loss: 2.2744, val_loss: 3.8892, val_acc: 0.2303\n",
      "Epoch [16], last_lr: 0.00683, train_loss: 2.1147, val_loss: 3.8661, val_acc: 0.2317\n",
      "Epoch [17], last_lr: 0.00611, train_loss: 1.9627, val_loss: 3.8525, val_acc: 0.2266\n",
      "Epoch [18], last_lr: 0.00537, train_loss: 1.8189, val_loss: 3.7633, val_acc: 0.2517\n",
      "Epoch [19], last_lr: 0.00463, train_loss: 1.6512, val_loss: 3.7960, val_acc: 0.2603\n",
      "Epoch [20], last_lr: 0.00389, train_loss: 1.5193, val_loss: 3.9686, val_acc: 0.2526\n",
      "Epoch [21], last_lr: 0.00317, train_loss: 1.3845, val_loss: 3.9381, val_acc: 0.2691\n",
      "Epoch [22], last_lr: 0.00250, train_loss: 1.2420, val_loss: 4.0239, val_acc: 0.2665\n",
      "Epoch [23], last_lr: 0.00188, train_loss: 1.1263, val_loss: 4.0892, val_acc: 0.2857\n",
      "Epoch [24], last_lr: 0.00133, train_loss: 0.9994, val_loss: 4.1826, val_acc: 0.2792\n",
      "Epoch [25], last_lr: 0.00087, train_loss: 0.9371, val_loss: 4.2712, val_acc: 0.2867\n",
      "Epoch [26], last_lr: 0.00050, train_loss: 0.8538, val_loss: 4.2521, val_acc: 0.2931\n",
      "Epoch [27], last_lr: 0.00022, train_loss: 0.7881, val_loss: 4.2009, val_acc: 0.2835\n",
      "Epoch [28], last_lr: 0.00006, train_loss: 0.7650, val_loss: 4.2179, val_acc: 0.2859\n",
      "Ранняя остановка 30, lr=0.000000\n",
      "Лучшая модель (val_loss=3.5034)\n"
     ]
    }
   ],
   "source": [
    "model_1 = BasicCNN(num_classes=100).to(device)\n",
    "history = fit_one_cycle(epochs=30,max_lr=0.01,\n",
    "        model=model_1,train_loader=train_loader_basic,\n",
    "        test_loader=test_loader_basic,weight_decay=1e-4,\n",
    "        grad_clip=0.1,opt_func=torch.optim.Adam\n",
    ")"
   ]
  },
  {
   "cell_type": "markdown",
   "id": "0f5a05b3-47eb-4440-a59d-b381140903bf",
   "metadata": {},
   "source": [
    "# Базовая модель с трансфер лернингом"
   ]
  },
  {
   "cell_type": "code",
   "execution_count": 20,
   "id": "6d110b73-c896-4f9f-83ec-fe5fd3a17ecc",
   "metadata": {
    "execution": {
     "iopub.execute_input": "2025-04-30T17:18:51.533906Z",
     "iopub.status.busy": "2025-04-30T17:18:51.533195Z",
     "iopub.status.idle": "2025-04-30T17:18:51.645141Z",
     "shell.execute_reply": "2025-04-30T17:18:51.644342Z",
     "shell.execute_reply.started": "2025-04-30T17:18:51.533875Z"
    },
    "tags": []
   },
   "outputs": [],
   "source": [
    "#без враппера нормально не грузилось\n",
    "class AlbumentationsWrapper:\n",
    "    def __init__(self,albumentations_transform):\n",
    "        self.albumentations_transform=albumentations_transform\n",
    "    def __call__(self,image):\n",
    "        if not isinstance(image,np.ndarray):\n",
    "            image=np.array(image)\n",
    "        return self.albumentations_transform(image=image)[\"image\"]\n",
    "transfer_train_transform=AlbumentationsWrapper(\n",
    "    A.Compose([A.Resize(224,224),A.HorizontalFlip(p=0.5),\n",
    "        A.Normalize(mean=(0.485,0.456,0.406),std=(0.229,0.224,0.225)),\n",
    "        ToTensorV2()\n",
    "    ])\n",
    ")\n",
    "\n",
    "transfer_val_transform=AlbumentationsWrapper(\n",
    "    A.Compose([A.Resize(224, 224),A.Normalize(mean=(0.485,0.456,0.406),std=(0.229,0.224,0.225)),\n",
    "        ToTensorV2()\n",
    "    ])\n",
    ")\n",
    "\n",
    "train_dataset_transfer = torch.utils.data.Subset(\n",
    "    CustomImageDataset(root_dir='data', mode='train',transform=transfer_train_transform),train_indices)\n",
    "val_dataset_transfer = torch.utils.data.Subset(\n",
    "    CustomImageDataset(root_dir='data', mode='train',transform=transfer_val_transform),val_indices)\n",
    "\n",
    "train_loader_transfer = DataLoader(train_dataset_transfer,batch_size=64,shuffle=True,num_workers=4)\n",
    "val_loader_transfer = DataLoader(val_dataset_transfer,batch_size=64,shuffle=False,num_workers=4)"
   ]
  },
  {
   "cell_type": "code",
   "execution_count": 21,
   "id": "17ba5445-412f-4aac-9bc2-70895201b95f",
   "metadata": {
    "execution": {
     "iopub.execute_input": "2025-04-30T17:18:54.925074Z",
     "iopub.status.busy": "2025-04-30T17:18:54.923958Z",
     "iopub.status.idle": "2025-04-30T17:18:54.956302Z",
     "shell.execute_reply": "2025-04-30T17:18:54.955545Z",
     "shell.execute_reply.started": "2025-04-30T17:18:54.925028Z"
    },
    "tags": []
   },
   "outputs": [],
   "source": [
    "#подгрузим резнет 18\n",
    "class TransferResNet(nn.Module):\n",
    "    def __init__(self, num_classes=100):\n",
    "        super().__init__()\n",
    "        self.network = resnet18(weights=ResNet18_Weights.IMAGENET1K_V1)\n",
    "        for param in self.network.parameters():\n",
    "            param.requires_grad = False\n",
    "        self.network.fc = nn.Linear(self.network.fc.in_features, num_classes)\n",
    "\n",
    "    def forward(self, xb):\n",
    "        return self.network(xb)\n",
    "\n",
    "    def training_step(self, batch):\n",
    "        images, labels = batch\n",
    "        images, labels = images.to(self.device), labels.to(self.device)\n",
    "        out = self(images)\n",
    "        return F.cross_entropy(out, labels)\n",
    "\n",
    "    def validation_step(self, batch):\n",
    "        images, labels = batch\n",
    "        images, labels = images.to(self.device), labels.to(self.device)\n",
    "        out = self(images)\n",
    "        loss = F.cross_entropy(out, labels)\n",
    "        acc = accuracy(out, labels)\n",
    "        return {'val_loss': loss.detach(), 'val_acc': acc}\n",
    "\n",
    "    def validation_epoch_end(self, outputs):\n",
    "        batch_losses = [x['val_loss'] for x in outputs]\n",
    "        epoch_loss = torch.stack(batch_losses).mean()\n",
    "        batch_accs = [x['val_acc'] for x in outputs]\n",
    "        epoch_acc = torch.stack(batch_accs).mean()\n",
    "        return {'val_loss': epoch_loss.item(), 'val_acc': epoch_acc.item()}\n",
    "\n",
    "    def epoch_end(self, epoch, result):\n",
    "        print(f\"Epoch [{epoch}], val_loss: {result['val_loss']:.4f}, val_acc: {result['val_acc']:.4f}\")\n",
    "\n",
    "    @property\n",
    "    def device(self):\n",
    "        return next(self.parameters()).device"
   ]
  },
  {
   "cell_type": "code",
   "execution_count": 22,
   "id": "1efc3f01-b159-4e05-a441-b7a59965bdeb",
   "metadata": {
    "execution": {
     "iopub.execute_input": "2025-04-30T17:18:57.035866Z",
     "iopub.status.busy": "2025-04-30T17:18:57.034921Z",
     "iopub.status.idle": "2025-04-30T17:20:02.916984Z",
     "shell.execute_reply": "2025-04-30T17:20:02.916036Z",
     "shell.execute_reply.started": "2025-04-30T17:18:57.035837Z"
    },
    "tags": []
   },
   "outputs": [
    {
     "name": "stderr",
     "output_type": "stream",
     "text": [
      "Downloading: \"https://download.pytorch.org/models/resnet18-f37072fd.pth\" to /tmp/xdg_cache/torch/hub/checkpoints/resnet18-f37072fd.pth\n",
      "100%|██████████| 44.7M/44.7M [00:01<00:00, 40.6MB/s]\n"
     ]
    },
    {
     "name": "stdout",
     "output_type": "stream",
     "text": [
      "Epoch [0], val_loss: 4.3251, val_acc: 0.0649\n",
      "Epoch [1], val_loss: 3.3357, val_acc: 0.2692\n",
      "Epoch [2], val_loss: 2.5258, val_acc: 0.4220\n",
      "Epoch [3], val_loss: 2.1576, val_acc: 0.4643\n",
      "Epoch [4], val_loss: 1.9824, val_acc: 0.5014\n",
      "Epoch [5], val_loss: 1.9066, val_acc: 0.5006\n",
      "Epoch [6], val_loss: 1.8497, val_acc: 0.5253\n",
      "Epoch [7], val_loss: 1.8149, val_acc: 0.5276\n",
      "Epoch [8], val_loss: 1.8015, val_acc: 0.5393\n",
      "Ранняя остановка 10, lr=0.000000\n",
      "Лучшая модель (val_loss=1.8015)\n"
     ]
    }
   ],
   "source": [
    "model_transfer = to_device(TransferResNet(num_classes=100), device)\n",
    "\n",
    "history = fit_one_cycle(\n",
    "    epochs=10,\n",
    "    max_lr=1e-3,\n",
    "    model=model_transfer,\n",
    "    train_loader=train_loader_transfer,\n",
    "    test_loader=val_loader_transfer,\n",
    "    weight_decay=1e-4,\n",
    "    grad_clip=0.1,\n",
    "    opt_func=torch.optim.Adam\n",
    ")"
   ]
  },
  {
   "cell_type": "code",
   "execution_count": 23,
   "id": "a8857062-c0e7-4c19-a3c4-2cc6c8f9bb79",
   "metadata": {
    "execution": {
     "iopub.execute_input": "2025-04-30T17:20:09.134495Z",
     "iopub.status.busy": "2025-04-30T17:20:09.133408Z",
     "iopub.status.idle": "2025-04-30T17:20:09.155697Z",
     "shell.execute_reply": "2025-04-30T17:20:09.154898Z",
     "shell.execute_reply.started": "2025-04-30T17:20:09.134444Z"
    }
   },
   "outputs": [],
   "source": [
    "#за 10 эпох модель обучается значительно лучше, чем базовая "
   ]
  },
  {
   "cell_type": "markdown",
   "id": "8ba97225-efc8-456b-8ce7-82c787defa89",
   "metadata": {},
   "source": [
    "# Обучим более сложную модель"
   ]
  },
  {
   "cell_type": "code",
   "execution_count": 24,
   "id": "29129a07-0f99-4799-8ef0-c4aa8a454d93",
   "metadata": {
    "execution": {
     "iopub.execute_input": "2025-04-30T17:20:10.224605Z",
     "iopub.status.busy": "2025-04-30T17:20:10.223551Z",
     "iopub.status.idle": "2025-04-30T17:20:10.240372Z",
     "shell.execute_reply": "2025-04-30T17:20:10.239622Z",
     "shell.execute_reply.started": "2025-04-30T17:20:10.224558Z"
    }
   },
   "outputs": [],
   "source": [
    "#epochs = 30\n",
    "#max_lr = 0.001\n",
    "#grad_clip = 0.01\n",
    "#weight_decay =0.001\n",
    "#opt_func = torch.optim.Adam"
   ]
  },
  {
   "cell_type": "code",
   "execution_count": 25,
   "id": "b273359c-c874-4105-ade2-f939bb9c34c1",
   "metadata": {
    "execution": {
     "iopub.execute_input": "2025-04-30T17:20:10.946207Z",
     "iopub.status.busy": "2025-04-30T17:20:10.945273Z",
     "iopub.status.idle": "2025-04-30T17:20:11.207832Z",
     "shell.execute_reply": "2025-04-30T17:20:11.207068Z",
     "shell.execute_reply.started": "2025-04-30T17:20:10.946179Z"
    },
    "tags": []
   },
   "outputs": [
    {
     "data": {
      "text/plain": [
       "AdvModel(\n",
       "  (conv1): Sequential(\n",
       "    (0): Conv2d(3, 64, kernel_size=(3, 3), stride=(1, 1), padding=(1, 1))\n",
       "    (1): BatchNorm2d(64, eps=1e-05, momentum=0.1, affine=True, track_running_stats=True)\n",
       "    (2): ReLU(inplace=True)\n",
       "    (3): Identity()\n",
       "  )\n",
       "  (conv2): Sequential(\n",
       "    (0): Conv2d(64, 128, kernel_size=(3, 3), stride=(1, 1), padding=(1, 1))\n",
       "    (1): BatchNorm2d(128, eps=1e-05, momentum=0.1, affine=True, track_running_stats=True)\n",
       "    (2): ReLU(inplace=True)\n",
       "    (3): MaxPool2d(kernel_size=2, stride=2, padding=0, dilation=1, ceil_mode=False)\n",
       "  )\n",
       "  (res1): Sequential(\n",
       "    (0): Sequential(\n",
       "      (0): Conv2d(128, 128, kernel_size=(3, 3), stride=(1, 1), padding=(1, 1))\n",
       "      (1): BatchNorm2d(128, eps=1e-05, momentum=0.1, affine=True, track_running_stats=True)\n",
       "      (2): ReLU(inplace=True)\n",
       "      (3): Identity()\n",
       "    )\n",
       "    (1): Sequential(\n",
       "      (0): Conv2d(128, 128, kernel_size=(3, 3), stride=(1, 1), padding=(1, 1))\n",
       "      (1): BatchNorm2d(128, eps=1e-05, momentum=0.1, affine=True, track_running_stats=True)\n",
       "      (2): ReLU(inplace=True)\n",
       "      (3): Identity()\n",
       "    )\n",
       "  )\n",
       "  (conv3): Sequential(\n",
       "    (0): Conv2d(128, 256, kernel_size=(3, 3), stride=(1, 1), padding=(1, 1))\n",
       "    (1): BatchNorm2d(256, eps=1e-05, momentum=0.1, affine=True, track_running_stats=True)\n",
       "    (2): ReLU(inplace=True)\n",
       "    (3): MaxPool2d(kernel_size=2, stride=2, padding=0, dilation=1, ceil_mode=False)\n",
       "  )\n",
       "  (conv4): Sequential(\n",
       "    (0): Conv2d(256, 512, kernel_size=(3, 3), stride=(1, 1), padding=(1, 1))\n",
       "    (1): BatchNorm2d(512, eps=1e-05, momentum=0.1, affine=True, track_running_stats=True)\n",
       "    (2): ReLU(inplace=True)\n",
       "    (3): MaxPool2d(kernel_size=2, stride=2, padding=0, dilation=1, ceil_mode=False)\n",
       "  )\n",
       "  (res2): Sequential(\n",
       "    (0): Sequential(\n",
       "      (0): Conv2d(512, 512, kernel_size=(3, 3), stride=(1, 1), padding=(1, 1))\n",
       "      (1): BatchNorm2d(512, eps=1e-05, momentum=0.1, affine=True, track_running_stats=True)\n",
       "      (2): ReLU(inplace=True)\n",
       "      (3): Identity()\n",
       "    )\n",
       "    (1): Sequential(\n",
       "      (0): Conv2d(512, 512, kernel_size=(3, 3), stride=(1, 1), padding=(1, 1))\n",
       "      (1): BatchNorm2d(512, eps=1e-05, momentum=0.1, affine=True, track_running_stats=True)\n",
       "      (2): ReLU(inplace=True)\n",
       "      (3): Identity()\n",
       "    )\n",
       "  )\n",
       "  (conv5): Sequential(\n",
       "    (0): Conv2d(512, 1028, kernel_size=(3, 3), stride=(1, 1), padding=(1, 1))\n",
       "    (1): BatchNorm2d(1028, eps=1e-05, momentum=0.1, affine=True, track_running_stats=True)\n",
       "    (2): ReLU(inplace=True)\n",
       "    (3): MaxPool2d(kernel_size=2, stride=2, padding=0, dilation=1, ceil_mode=False)\n",
       "  )\n",
       "  (res3): Sequential(\n",
       "    (0): Sequential(\n",
       "      (0): Conv2d(1028, 1028, kernel_size=(3, 3), stride=(1, 1), padding=(1, 1))\n",
       "      (1): BatchNorm2d(1028, eps=1e-05, momentum=0.1, affine=True, track_running_stats=True)\n",
       "      (2): ReLU(inplace=True)\n",
       "      (3): Identity()\n",
       "    )\n",
       "    (1): Sequential(\n",
       "      (0): Conv2d(1028, 1028, kernel_size=(3, 3), stride=(1, 1), padding=(1, 1))\n",
       "      (1): BatchNorm2d(1028, eps=1e-05, momentum=0.1, affine=True, track_running_stats=True)\n",
       "      (2): ReLU(inplace=True)\n",
       "      (3): Identity()\n",
       "    )\n",
       "  )\n",
       "  (classifier): Sequential(\n",
       "    (0): MaxPool2d(kernel_size=2, stride=2, padding=0, dilation=1, ceil_mode=False)\n",
       "    (1): Flatten(start_dim=1, end_dim=-1)\n",
       "    (2): Linear(in_features=1028, out_features=100, bias=True)\n",
       "  )\n",
       ")"
      ]
     },
     "execution_count": 25,
     "metadata": {},
     "output_type": "execute_result"
    }
   ],
   "source": [
    "\n",
    "class ImageClassificationBase(nn.Module):\n",
    "    def training_step(self, batch):\n",
    "        images, labels = batch\n",
    "        images = images.to(next(self.parameters()).device) #кидаем тензор на устройство\n",
    "        labels = labels.to(next(self.parameters()).device)\n",
    "        out = self(images)                 \n",
    "        loss = F.cross_entropy(out,labels) #считаем лос\n",
    "        return loss\n",
    "    \n",
    "    def validation_step(self, batch):\n",
    "        images, labels = batch\n",
    "        images = images.to(next(self.parameters()).device)\n",
    "        labels = labels.to(next(self.parameters()).device)\n",
    "        out = self(images)                   \n",
    "        loss = F.cross_entropy(out, labels)  \n",
    "        acc = accuracy(out, labels)           \n",
    "        return {'val_loss': loss.detach(), 'val_acc': acc}\n",
    "        \n",
    "    def validation_epoch_end(self, outputs):\n",
    "        batch_losses = [x['val_loss'] for x in outputs]\n",
    "        epoch_loss = torch.stack(batch_losses).mean()  \n",
    "        batch_accs = [x['val_acc'] for x in outputs]\n",
    "        epoch_acc = torch.stack(batch_accs).mean()   \n",
    "        return {'val_loss': epoch_loss.item(), 'val_acc': epoch_acc.item()}\n",
    "    \n",
    "    def epoch_end(self, epoch, result):\n",
    "        print(\"Epoch [{}], last_lr: {:.5f}, train_loss: {:.4f}, val_loss: {:.4f}, val_acc: {:.4f}\".format(\n",
    "            epoch, result['lrs'][-1], result['train_loss'], result['val_loss'], result['val_acc']))\n",
    "        \n",
    "\n",
    "class AdvModel(ImageClassificationBase):\n",
    "    def __init__(self, in_channels, num_classes):\n",
    "        super().__init__()\n",
    "        \n",
    "        self.conv1 = conv_block(in_channels, 64)\n",
    "        self.conv2 = conv_block(64, 128, pool=True) \n",
    "        self.res1 = nn.Sequential(conv_block(128, 128), conv_block(128, 128)) \n",
    "        \n",
    "        self.conv3 = conv_block(128, 256, pool=True)\n",
    "        self.conv4 = conv_block(256, 512, pool=True) \n",
    "        self.res2 = nn.Sequential(conv_block(512, 512), conv_block(512, 512)) \n",
    "        self.conv5 = conv_block(512, 1028, pool=True) \n",
    "        self.res3 = nn.Sequential(conv_block(1028, 1028), conv_block(1028, 1028))  \n",
    "        \n",
    "        self.classifier = nn.Sequential(nn.MaxPool2d(2),\n",
    "                                        nn.Flatten(), \n",
    "                                        nn.Linear(1028, num_classes))\n",
    "        \n",
    "    def forward(self, xb):\n",
    "        out = self.conv1(xb)\n",
    "        out = self.conv2(out)\n",
    "        out = self.res1(out) + out\n",
    "        out = self.conv3(out)\n",
    "        out = self.conv4(out)\n",
    "        out = self.res2(out) + out\n",
    "        out = self.conv5(out)\n",
    "        out = self.res3(out) + out\n",
    "        out = self.classifier(out)\n",
    "        return out\n",
    "\n",
    "model = to_device(AdvModel(3, 100), device)\n",
    "model"
   ]
  },
  {
   "cell_type": "code",
   "execution_count": 26,
   "id": "02253aa9-1b15-4d7b-8a69-ddcb99f17e78",
   "metadata": {
    "execution": {
     "iopub.execute_input": "2025-04-30T17:20:12.014285Z",
     "iopub.status.busy": "2025-04-30T17:20:12.013290Z",
     "iopub.status.idle": "2025-04-30T17:22:22.904820Z",
     "shell.execute_reply": "2025-04-30T17:22:22.903709Z",
     "shell.execute_reply.started": "2025-04-30T17:20:12.014240Z"
    },
    "tags": []
   },
   "outputs": [
    {
     "name": "stdout",
     "output_type": "stream",
     "text": [
      "Epoch [0], last_lr: 0.00007, train_loss: 4.2832, val_loss: 3.8212, val_acc: 0.1246\n",
      "Epoch [1], last_lr: 0.00015, train_loss: 3.8234, val_loss: 3.7296, val_acc: 0.1464\n",
      "Epoch [2], last_lr: 0.00028, train_loss: 3.7196, val_loss: 3.7238, val_acc: 0.1678\n",
      "Epoch [3], last_lr: 0.00044, train_loss: 3.6367, val_loss: 3.9364, val_acc: 0.1739\n",
      "Epoch [4], last_lr: 0.00060, train_loss: 3.5951, val_loss: 3.7663, val_acc: 0.1736\n",
      "Epoch [5], last_lr: 0.00076, train_loss: 3.5374, val_loss: 3.6197, val_acc: 0.1853\n",
      "Epoch [6], last_lr: 0.00089, train_loss: 3.3397, val_loss: 3.6442, val_acc: 0.1945\n",
      "Epoch [7], last_lr: 0.00097, train_loss: 3.2219, val_loss: 3.5252, val_acc: 0.2223\n",
      "Epoch [8], last_lr: 0.00100, train_loss: 3.0581, val_loss: 3.3874, val_acc: 0.2445\n",
      "Epoch [9], last_lr: 0.00099, train_loss: 2.8687, val_loss: 3.4203, val_acc: 0.2504\n",
      "Epoch [10], last_lr: 0.00098, train_loss: 2.7082, val_loss: 3.2842, val_acc: 0.2551\n",
      "Epoch [11], last_lr: 0.00095, train_loss: 2.5524, val_loss: 2.6212, val_acc: 0.3674\n",
      "Epoch [12], last_lr: 0.00091, train_loss: 2.4025, val_loss: 3.2949, val_acc: 0.2751\n",
      "Epoch [13], last_lr: 0.00087, train_loss: 2.2478, val_loss: 2.5786, val_acc: 0.3722\n",
      "Epoch [14], last_lr: 0.00081, train_loss: 2.0948, val_loss: 2.4908, val_acc: 0.3935\n",
      "Epoch [15], last_lr: 0.00075, train_loss: 1.9819, val_loss: 2.4816, val_acc: 0.4009\n",
      "Epoch [16], last_lr: 0.00068, train_loss: 1.8205, val_loss: 2.4286, val_acc: 0.3994\n",
      "Epoch [17], last_lr: 0.00061, train_loss: 1.6868, val_loss: 2.5148, val_acc: 0.3864\n",
      "Epoch [18], last_lr: 0.00054, train_loss: 1.5423, val_loss: 2.3373, val_acc: 0.4214\n",
      "Epoch [19], last_lr: 0.00046, train_loss: 1.3767, val_loss: 2.3613, val_acc: 0.4203\n",
      "Epoch [20], last_lr: 0.00039, train_loss: 1.1999, val_loss: 2.1215, val_acc: 0.4611\n",
      "Epoch [21], last_lr: 0.00032, train_loss: 1.0320, val_loss: 2.1125, val_acc: 0.4682\n",
      "Epoch [22], last_lr: 0.00025, train_loss: 0.8614, val_loss: 1.9898, val_acc: 0.4860\n",
      "Epoch [23], last_lr: 0.00019, train_loss: 0.6946, val_loss: 1.9805, val_acc: 0.4929\n",
      "Epoch [24], last_lr: 0.00013, train_loss: 0.5770, val_loss: 1.9537, val_acc: 0.5167\n",
      "Epoch [25], last_lr: 0.00009, train_loss: 0.4677, val_loss: 1.9207, val_acc: 0.5246\n",
      "Epoch [26], last_lr: 0.00005, train_loss: 0.3940, val_loss: 1.8941, val_acc: 0.5409\n",
      "Epoch [27], last_lr: 0.00002, train_loss: 0.3474, val_loss: 1.8846, val_acc: 0.5365\n",
      "Ранняя остановка 29, lr=0.000005\n",
      "Лучшая модель (val_acc=0.5409)\n"
     ]
    }
   ],
   "source": [
    "history = fit_one_cycle(epochs=30,max_lr=0.001,\n",
    "    model=model,\n",
    "    train_loader=train_loader,\n",
    "    test_loader=test_loader,\n",
    "    weight_decay=0.001,\n",
    "    grad_clip=0.01,\n",
    "    opt_func=torch.optim.Adam,\n",
    "    stop_lr=1e-5, \n",
    "    monitor_metric='val_acc',  \n",
    "    mode='max' \n",
    ")"
   ]
  },
  {
   "cell_type": "code",
   "execution_count": 27,
   "id": "bdfb8a55-831a-4b2b-ad42-f1197617da8b",
   "metadata": {
    "execution": {
     "iopub.execute_input": "2025-04-30T17:22:26.551657Z",
     "iopub.status.busy": "2025-04-30T17:22:26.550729Z",
     "iopub.status.idle": "2025-04-30T17:22:27.137700Z",
     "shell.execute_reply": "2025-04-30T17:22:27.136812Z",
     "shell.execute_reply.started": "2025-04-30T17:22:26.551622Z"
    },
    "tags": []
   },
   "outputs": [
    {
     "data": {
      "image/png": "[encoded data removed]",
      "text/plain": [
       "<Figure size 1500x500 with 3 Axes>"
      ]
     },
     "metadata": {},
     "output_type": "display_data"
    }
   ],
   "source": [
    "plot_metrics(history)"
   ]
  },
  {
   "cell_type": "code",
   "execution_count": 28,
   "id": "c969bcea-f597-48c6-8b1e-b71584d7c089",
   "metadata": {
    "execution": {
     "iopub.execute_input": "2025-04-30T17:22:28.889619Z",
     "iopub.status.busy": "2025-04-30T17:22:28.888509Z",
     "iopub.status.idle": "2025-04-30T17:22:28.909924Z",
     "shell.execute_reply": "2025-04-30T17:22:28.909186Z",
     "shell.execute_reply.started": "2025-04-30T17:22:28.889570Z"
    }
   },
   "outputs": [],
   "source": [
    "#эта модель использовалась для предикта"
   ]
  },
  {
   "cell_type": "markdown",
   "id": "f7e70d0d-ce3c-4844-861a-13de22baae08",
   "metadata": {
    "tags": []
   },
   "source": [
    "# Модель с генератором данных (DCGAN)"
   ]
  },
  {
   "cell_type": "code",
   "execution_count": 29,
   "id": "5b567215-99e8-4914-898f-3aac94d2e95d",
   "metadata": {
    "execution": {
     "iopub.execute_input": "2025-04-30T17:22:31.424264Z",
     "iopub.status.busy": "2025-04-30T17:22:31.423389Z",
     "iopub.status.idle": "2025-04-30T17:22:31.452927Z",
     "shell.execute_reply": "2025-04-30T17:22:31.452083Z",
     "shell.execute_reply.started": "2025-04-30T17:22:31.424232Z"
    },
    "tags": []
   },
   "outputs": [],
   "source": [
    "channels = 3 \n",
    "img_size = 32 \n",
    "img_shape = (channels, img_size, img_size)\n",
    "latent_dim = 100\n",
    "cuda = True if torch.cuda.is_available() else False"
   ]
  },
  {
   "cell_type": "code",
   "execution_count": 30,
   "id": "cb268349-0eba-4e95-a591-53ce1bbb4097",
   "metadata": {
    "execution": {
     "iopub.execute_input": "2025-04-30T17:22:32.060723Z",
     "iopub.status.busy": "2025-04-30T17:22:32.059762Z",
     "iopub.status.idle": "2025-04-30T17:22:32.090288Z",
     "shell.execute_reply": "2025-04-30T17:22:32.089422Z",
     "shell.execute_reply.started": "2025-04-30T17:22:32.060684Z"
    },
    "tags": []
   },
   "outputs": [],
   "source": [
    "class Generator(nn.Module):\n",
    "    def __init__(self):\n",
    "        super(Generator,self).__init__()\n",
    "        \n",
    "        def block(input_features,output_features,normalize=True):\n",
    "            layers = [nn.Linear(input_features,output_features)]\n",
    "            if normalize: \n",
    "                layers.append(nn.BatchNorm1d(output_features,0.8))\n",
    "            layers.append(nn.LeakyReLU(0.2,inplace=True))\n",
    "            return layers \n",
    "        self.model = nn.Sequential(\n",
    "            *block(latent_dim,128,normalize=False), \n",
    "            *block(128, 256),\n",
    "            *block(256, 512),\n",
    "            *block(512, 1024),\n",
    "            nn.Linear(1024,int(np.prod(img_shape))),\n",
    "            nn.Tanh() \n",
    "        )\n",
    "\n",
    "    def forward(self, z): \n",
    "        img = self.model(z)\n",
    "        img = img.view(img.size(0), *img_shape) \n",
    "        return img"
   ]
  },
  {
   "cell_type": "code",
   "execution_count": 31,
   "id": "6f662419-7f73-47f1-a69e-1aac23bccebc",
   "metadata": {
    "execution": {
     "iopub.execute_input": "2025-04-30T17:22:32.636696Z",
     "iopub.status.busy": "2025-04-30T17:22:32.635762Z",
     "iopub.status.idle": "2025-04-30T17:22:32.663688Z",
     "shell.execute_reply": "2025-04-30T17:22:32.662941Z",
     "shell.execute_reply.started": "2025-04-30T17:22:32.636667Z"
    },
    "tags": []
   },
   "outputs": [],
   "source": [
    "class Discriminator(nn.Module):\n",
    "    def __init__(self):\n",
    "        super(Discriminator,self).__init__()\n",
    "        \n",
    "        self.model = nn.Sequential(\n",
    "            nn.Linear(int(np.prod(img_shape)),512),\n",
    "            nn.LeakyReLU(0.2, inplace=True),\n",
    "            nn.Linear(512, 256),\n",
    "            nn.LeakyReLU(0.2, inplace=True),\n",
    "            nn.Linear(256, 1),\n",
    "            nn.Sigmoid() \n",
    "        )\n",
    "    \n",
    "    def forward(self, img):\n",
    "        img_flat = img.view(img.size(0), -1) \n",
    "        validity = self.model(img_flat)\n",
    "        return validity"
   ]
  },
  {
   "cell_type": "code",
   "execution_count": 32,
   "id": "d0ab81d6-b977-4fc6-b3ba-9876379d177a",
   "metadata": {
    "execution": {
     "iopub.execute_input": "2025-04-30T17:22:33.190400Z",
     "iopub.status.busy": "2025-04-30T17:22:33.189474Z",
     "iopub.status.idle": "2025-04-30T17:22:33.260286Z",
     "shell.execute_reply": "2025-04-30T17:22:33.259461Z",
     "shell.execute_reply.started": "2025-04-30T17:22:33.190358Z"
    },
    "tags": []
   },
   "outputs": [],
   "source": [
    "adversarial_loss = torch.nn.BCELoss()\n",
    "generator = Generator()\n",
    "discriminator = Discriminator()\n",
    "if cuda:\n",
    "    generator.cuda()\n",
    "    discriminator.cuda()\n",
    "    adversarial_loss.cuda()"
   ]
  },
  {
   "cell_type": "code",
   "execution_count": 33,
   "id": "ae69d692-4098-4000-b955-3f8d8f06c0a6",
   "metadata": {
    "execution": {
     "iopub.execute_input": "2025-04-30T17:22:33.946953Z",
     "iopub.status.busy": "2025-04-30T17:22:33.945952Z",
     "iopub.status.idle": "2025-04-30T17:22:33.978205Z",
     "shell.execute_reply": "2025-04-30T17:22:33.977445Z",
     "shell.execute_reply.started": "2025-04-30T17:22:33.946905Z"
    },
    "tags": []
   },
   "outputs": [],
   "source": [
    "b1 = 0.5\n",
    "b2 = 0.999\n",
    "lr = 0.0002 \n",
    "optimizer_G = torch.optim.Adam(generator.parameters(), lr=lr, betas=(b1,b2))\n",
    "optimizer_D = torch.optim.Adam(discriminator.parameters(), lr=lr, betas=(b1,b2))\n",
    "Tensor = torch.cuda.FloatTensor if cuda else torch.FloatTensor"
   ]
  },
  {
   "cell_type": "code",
   "execution_count": 34,
   "id": "e7d4fa78-90c2-41dc-b7c0-c70d6e0cd70a",
   "metadata": {
    "execution": {
     "iopub.execute_input": "2025-04-30T17:22:37.380994Z",
     "iopub.status.busy": "2025-04-30T17:22:37.380062Z",
     "iopub.status.idle": "2025-04-30T17:22:37.390974Z",
     "shell.execute_reply": "2025-04-30T17:22:37.390239Z",
     "shell.execute_reply.started": "2025-04-30T17:22:37.380951Z"
    },
    "tags": []
   },
   "outputs": [],
   "source": [
    "from torch.autograd import Variable"
   ]
  },
  {
   "cell_type": "code",
   "execution_count": 35,
   "id": "3337c6b5-26ff-4493-b0a3-b0007a58bfad",
   "metadata": {
    "execution": {
     "iopub.execute_input": "2025-04-30T17:22:38.864277Z",
     "iopub.status.busy": "2025-04-30T17:22:38.863312Z",
     "iopub.status.idle": "2025-04-30T17:25:59.598679Z",
     "shell.execute_reply": "2025-04-30T17:25:59.597887Z",
     "shell.execute_reply.started": "2025-04-30T17:22:38.864235Z"
    },
    "tags": []
   },
   "outputs": [
    {
     "data": {
      "application/vnd.jupyter.widget-view+json": {
       "model_id": "d72046396dbc4d9182bee4bb11e54bdb",
       "version_major": 2,
       "version_minor": 0
      },
      "text/plain": [
       "  0%|          | 0/119 [00:00<?, ?it/s]"
      ]
     },
     "metadata": {},
     "output_type": "display_data"
    },
    {
     "name": "stdout",
     "output_type": "stream",
     "text": [
      "[Epoch: 1/100] [Batch: 119/119] [D loss: 0.276797] [G loss: 1.011754]\n"
     ]
    },
    {
     "data": {
      "application/vnd.jupyter.widget-view+json": {
       "model_id": "2732a5976d8644bcb001ecd31858cc75",
       "version_major": 2,
       "version_minor": 0
      },
      "text/plain": [
       "  0%|          | 0/119 [00:00<?, ?it/s]"
      ]
     },
     "metadata": {},
     "output_type": "display_data"
    },
    {
     "name": "stdout",
     "output_type": "stream",
     "text": [
      "[Epoch: 2/100] [Batch: 119/119] [D loss: 0.305035] [G loss: 1.084622]\n"
     ]
    },
    {
     "data": {
      "application/vnd.jupyter.widget-view+json": {
       "model_id": "52898bb8a71044f3a95ea50856092fc1",
       "version_major": 2,
       "version_minor": 0
      },
      "text/plain": [
       "  0%|          | 0/119 [00:00<?, ?it/s]"
      ]
     },
     "metadata": {},
     "output_type": "display_data"
    },
    {
     "name": "stdout",
     "output_type": "stream",
     "text": [
      "[Epoch: 3/100] [Batch: 119/119] [D loss: 0.294979] [G loss: 1.147292]\n"
     ]
    },
    {
     "data": {
      "application/vnd.jupyter.widget-view+json": {
       "model_id": "cb4ae02008cb40da8cea24f275bc4de3",
       "version_major": 2,
       "version_minor": 0
      },
      "text/plain": [
       "  0%|          | 0/119 [00:00<?, ?it/s]"
      ]
     },
     "metadata": {},
     "output_type": "display_data"
    },
    {
     "name": "stdout",
     "output_type": "stream",
     "text": [
      "[Epoch: 4/100] [Batch: 119/119] [D loss: 0.252580] [G loss: 1.556112]\n"
     ]
    },
    {
     "data": {
      "application/vnd.jupyter.widget-view+json": {
       "model_id": "62675017fd9d4493b1877b70169de147",
       "version_major": 2,
       "version_minor": 0
      },
      "text/plain": [
       "  0%|          | 0/119 [00:00<?, ?it/s]"
      ]
     },
     "metadata": {},
     "output_type": "display_data"
    },
    {
     "name": "stdout",
     "output_type": "stream",
     "text": [
      "[Epoch: 5/100] [Batch: 119/119] [D loss: 0.224898] [G loss: 1.383060]\n"
     ]
    },
    {
     "data": {
      "application/vnd.jupyter.widget-view+json": {
       "model_id": "fd94c29f24d5498ab73cb948ce5e4600",
       "version_major": 2,
       "version_minor": 0
      },
      "text/plain": [
       "  0%|          | 0/119 [00:00<?, ?it/s]"
      ]
     },
     "metadata": {},
     "output_type": "display_data"
    },
    {
     "name": "stdout",
     "output_type": "stream",
     "text": [
      "[Epoch: 6/100] [Batch: 119/119] [D loss: 0.192745] [G loss: 1.753326]\n"
     ]
    },
    {
     "data": {
      "application/vnd.jupyter.widget-view+json": {
       "model_id": "263079528a934a0995a7004bfdcd13f5",
       "version_major": 2,
       "version_minor": 0
      },
      "text/plain": [
       "  0%|          | 0/119 [00:00<?, ?it/s]"
      ]
     },
     "metadata": {},
     "output_type": "display_data"
    },
    {
     "name": "stdout",
     "output_type": "stream",
     "text": [
      "[Epoch: 7/100] [Batch: 119/119] [D loss: 0.173386] [G loss: 2.045395]\n"
     ]
    },
    {
     "data": {
      "application/vnd.jupyter.widget-view+json": {
       "model_id": "b1f06a3f7d65442d816a460a711978bd",
       "version_major": 2,
       "version_minor": 0
      },
      "text/plain": [
       "  0%|          | 0/119 [00:00<?, ?it/s]"
      ]
     },
     "metadata": {},
     "output_type": "display_data"
    },
    {
     "name": "stdout",
     "output_type": "stream",
     "text": [
      "[Epoch: 8/100] [Batch: 119/119] [D loss: 0.145495] [G loss: 1.970683]\n"
     ]
    },
    {
     "data": {
      "application/vnd.jupyter.widget-view+json": {
       "model_id": "0a4928610fd24d10bc0bf2adc55e6cd8",
       "version_major": 2,
       "version_minor": 0
      },
      "text/plain": [
       "  0%|          | 0/119 [00:00<?, ?it/s]"
      ]
     },
     "metadata": {},
     "output_type": "display_data"
    },
    {
     "name": "stdout",
     "output_type": "stream",
     "text": [
      "[Epoch: 9/100] [Batch: 119/119] [D loss: 0.108065] [G loss: 2.282028]\n"
     ]
    },
    {
     "data": {
      "application/vnd.jupyter.widget-view+json": {
       "model_id": "5c36fecc67de4071ac279ef78cb19a58",
       "version_major": 2,
       "version_minor": 0
      },
      "text/plain": [
       "  0%|          | 0/119 [00:00<?, ?it/s]"
      ]
     },
     "metadata": {},
     "output_type": "display_data"
    },
    {
     "name": "stdout",
     "output_type": "stream",
     "text": [
      "[Epoch: 10/100] [Batch: 119/119] [D loss: 0.165610] [G loss: 2.247403]\n"
     ]
    },
    {
     "data": {
      "application/vnd.jupyter.widget-view+json": {
       "model_id": "589b8173b7b84a6fa659eb4c7f07c9d1",
       "version_major": 2,
       "version_minor": 0
      },
      "text/plain": [
       "  0%|          | 0/119 [00:00<?, ?it/s]"
      ]
     },
     "metadata": {},
     "output_type": "display_data"
    },
    {
     "name": "stdout",
     "output_type": "stream",
     "text": [
      "[Epoch: 11/100] [Batch: 119/119] [D loss: 0.158828] [G loss: 2.289447]\n"
     ]
    },
    {
     "data": {
      "application/vnd.jupyter.widget-view+json": {
       "model_id": "65ed334e94e5481a9357d68ee21d2deb",
       "version_major": 2,
       "version_minor": 0
      },
      "text/plain": [
       "  0%|          | 0/119 [00:00<?, ?it/s]"
      ]
     },
     "metadata": {},
     "output_type": "display_data"
    },
    {
     "name": "stdout",
     "output_type": "stream",
     "text": [
      "[Epoch: 12/100] [Batch: 119/119] [D loss: 0.152076] [G loss: 2.250702]\n"
     ]
    },
    {
     "data": {
      "application/vnd.jupyter.widget-view+json": {
       "model_id": "07ca1c5867d1472cbdb403c1ccd4f783",
       "version_major": 2,
       "version_minor": 0
      },
      "text/plain": [
       "  0%|          | 0/119 [00:00<?, ?it/s]"
      ]
     },
     "metadata": {},
     "output_type": "display_data"
    },
    {
     "name": "stdout",
     "output_type": "stream",
     "text": [
      "[Epoch: 13/100] [Batch: 119/119] [D loss: 0.302106] [G loss: 2.093405]\n"
     ]
    },
    {
     "data": {
      "application/vnd.jupyter.widget-view+json": {
       "model_id": "85d743ef03914d1e86806e16f89e0dad",
       "version_major": 2,
       "version_minor": 0
      },
      "text/plain": [
       "  0%|          | 0/119 [00:00<?, ?it/s]"
      ]
     },
     "metadata": {},
     "output_type": "display_data"
    },
    {
     "name": "stdout",
     "output_type": "stream",
     "text": [
      "[Epoch: 14/100] [Batch: 119/119] [D loss: 0.124743] [G loss: 2.060512]\n"
     ]
    },
    {
     "data": {
      "application/vnd.jupyter.widget-view+json": {
       "model_id": "56f751bc9b304599bafaf6a0844b589c",
       "version_major": 2,
       "version_minor": 0
      },
      "text/plain": [
       "  0%|          | 0/119 [00:00<?, ?it/s]"
      ]
     },
     "metadata": {},
     "output_type": "display_data"
    },
    {
     "name": "stdout",
     "output_type": "stream",
     "text": [
      "[Epoch: 15/100] [Batch: 119/119] [D loss: 0.174050] [G loss: 2.018941]\n"
     ]
    },
    {
     "data": {
      "application/vnd.jupyter.widget-view+json": {
       "model_id": "f6b01b327b2044d6a1a082fc7b9ce634",
       "version_major": 2,
       "version_minor": 0
      },
      "text/plain": [
       "  0%|          | 0/119 [00:00<?, ?it/s]"
      ]
     },
     "metadata": {},
     "output_type": "display_data"
    },
    {
     "name": "stdout",
     "output_type": "stream",
     "text": [
      "[Epoch: 16/100] [Batch: 119/119] [D loss: 0.144733] [G loss: 2.156713]\n"
     ]
    },
    {
     "data": {
      "application/vnd.jupyter.widget-view+json": {
       "model_id": "e09d3f0e7e394eb282b8b59599b82bc0",
       "version_major": 2,
       "version_minor": 0
      },
      "text/plain": [
       "  0%|          | 0/119 [00:00<?, ?it/s]"
      ]
     },
     "metadata": {},
     "output_type": "display_data"
    },
    {
     "name": "stdout",
     "output_type": "stream",
     "text": [
      "[Epoch: 17/100] [Batch: 119/119] [D loss: 0.108947] [G loss: 2.152793]\n"
     ]
    },
    {
     "data": {
      "application/vnd.jupyter.widget-view+json": {
       "model_id": "4b2624ae4bb24016bfb99d5d85f7a5e7",
       "version_major": 2,
       "version_minor": 0
      },
      "text/plain": [
       "  0%|          | 0/119 [00:00<?, ?it/s]"
      ]
     },
     "metadata": {},
     "output_type": "display_data"
    },
    {
     "name": "stdout",
     "output_type": "stream",
     "text": [
      "[Epoch: 18/100] [Batch: 119/119] [D loss: 0.107616] [G loss: 2.201590]\n"
     ]
    },
    {
     "data": {
      "application/vnd.jupyter.widget-view+json": {
       "model_id": "f81630aebf224034b61c5891964fb3fd",
       "version_major": 2,
       "version_minor": 0
      },
      "text/plain": [
       "  0%|          | 0/119 [00:00<?, ?it/s]"
      ]
     },
     "metadata": {},
     "output_type": "display_data"
    },
    {
     "name": "stdout",
     "output_type": "stream",
     "text": [
      "[Epoch: 19/100] [Batch: 119/119] [D loss: 0.189873] [G loss: 2.805009]\n"
     ]
    },
    {
     "data": {
      "application/vnd.jupyter.widget-view+json": {
       "model_id": "91ffb5be1abd43b89f327daba3270c44",
       "version_major": 2,
       "version_minor": 0
      },
      "text/plain": [
       "  0%|          | 0/119 [00:00<?, ?it/s]"
      ]
     },
     "metadata": {},
     "output_type": "display_data"
    },
    {
     "name": "stdout",
     "output_type": "stream",
     "text": [
      "[Epoch: 20/100] [Batch: 119/119] [D loss: 0.213474] [G loss: 2.102870]\n"
     ]
    },
    {
     "data": {
      "application/vnd.jupyter.widget-view+json": {
       "model_id": "0705a6b0aa394e44a2103d605ef1d05b",
       "version_major": 2,
       "version_minor": 0
      },
      "text/plain": [
       "  0%|          | 0/119 [00:00<?, ?it/s]"
      ]
     },
     "metadata": {},
     "output_type": "display_data"
    },
    {
     "name": "stdout",
     "output_type": "stream",
     "text": [
      "[Epoch: 21/100] [Batch: 119/119] [D loss: 0.191767] [G loss: 2.037653]\n"
     ]
    },
    {
     "data": {
      "application/vnd.jupyter.widget-view+json": {
       "model_id": "b3264234efa149c99fddf76169ee9fc3",
       "version_major": 2,
       "version_minor": 0
      },
      "text/plain": [
       "  0%|          | 0/119 [00:00<?, ?it/s]"
      ]
     },
     "metadata": {},
     "output_type": "display_data"
    },
    {
     "name": "stdout",
     "output_type": "stream",
     "text": [
      "[Epoch: 22/100] [Batch: 119/119] [D loss: 0.295905] [G loss: 3.059422]\n"
     ]
    },
    {
     "data": {
      "application/vnd.jupyter.widget-view+json": {
       "model_id": "c6fb0e5638ae4e2ea0e3434225e36f7d",
       "version_major": 2,
       "version_minor": 0
      },
      "text/plain": [
       "  0%|          | 0/119 [00:00<?, ?it/s]"
      ]
     },
     "metadata": {},
     "output_type": "display_data"
    },
    {
     "name": "stdout",
     "output_type": "stream",
     "text": [
      "[Epoch: 23/100] [Batch: 119/119] [D loss: 0.119082] [G loss: 2.837327]\n"
     ]
    },
    {
     "data": {
      "application/vnd.jupyter.widget-view+json": {
       "model_id": "1f29f44fe74b4815aebefaa0cfe22cc8",
       "version_major": 2,
       "version_minor": 0
      },
      "text/plain": [
       "  0%|          | 0/119 [00:00<?, ?it/s]"
      ]
     },
     "metadata": {},
     "output_type": "display_data"
    },
    {
     "name": "stdout",
     "output_type": "stream",
     "text": [
      "[Epoch: 24/100] [Batch: 119/119] [D loss: 0.322002] [G loss: 1.938874]\n"
     ]
    },
    {
     "data": {
      "application/vnd.jupyter.widget-view+json": {
       "model_id": "0933909d67b24e028783b1fcf350d81a",
       "version_major": 2,
       "version_minor": 0
      },
      "text/plain": [
       "  0%|          | 0/119 [00:00<?, ?it/s]"
      ]
     },
     "metadata": {},
     "output_type": "display_data"
    },
    {
     "name": "stdout",
     "output_type": "stream",
     "text": [
      "[Epoch: 25/100] [Batch: 119/119] [D loss: 0.215970] [G loss: 2.577158]\n"
     ]
    },
    {
     "data": {
      "application/vnd.jupyter.widget-view+json": {
       "model_id": "e58deea5a6e240bc8301b593c67755d6",
       "version_major": 2,
       "version_minor": 0
      },
      "text/plain": [
       "  0%|          | 0/119 [00:00<?, ?it/s]"
      ]
     },
     "metadata": {},
     "output_type": "display_data"
    },
    {
     "name": "stdout",
     "output_type": "stream",
     "text": [
      "[Epoch: 26/100] [Batch: 119/119] [D loss: 0.189830] [G loss: 2.070974]\n"
     ]
    },
    {
     "data": {
      "application/vnd.jupyter.widget-view+json": {
       "model_id": "d8cc0b89263b4e8784898fae5b2f40e6",
       "version_major": 2,
       "version_minor": 0
      },
      "text/plain": [
       "  0%|          | 0/119 [00:00<?, ?it/s]"
      ]
     },
     "metadata": {},
     "output_type": "display_data"
    },
    {
     "name": "stdout",
     "output_type": "stream",
     "text": [
      "[Epoch: 27/100] [Batch: 119/119] [D loss: 0.141688] [G loss: 2.455048]\n"
     ]
    },
    {
     "data": {
      "application/vnd.jupyter.widget-view+json": {
       "model_id": "3fa65ea8e43b4ce38e3693c3a9f252b6",
       "version_major": 2,
       "version_minor": 0
      },
      "text/plain": [
       "  0%|          | 0/119 [00:00<?, ?it/s]"
      ]
     },
     "metadata": {},
     "output_type": "display_data"
    },
    {
     "name": "stdout",
     "output_type": "stream",
     "text": [
      "[Epoch: 28/100] [Batch: 119/119] [D loss: 0.194534] [G loss: 2.547744]\n"
     ]
    },
    {
     "data": {
      "application/vnd.jupyter.widget-view+json": {
       "model_id": "a4f0febfcf1f43949c676e1fecbcad66",
       "version_major": 2,
       "version_minor": 0
      },
      "text/plain": [
       "  0%|          | 0/119 [00:00<?, ?it/s]"
      ]
     },
     "metadata": {},
     "output_type": "display_data"
    },
    {
     "name": "stdout",
     "output_type": "stream",
     "text": [
      "[Epoch: 29/100] [Batch: 119/119] [D loss: 0.120394] [G loss: 2.154577]\n"
     ]
    },
    {
     "data": {
      "application/vnd.jupyter.widget-view+json": {
       "model_id": "b3ae3ecfbcb64b6580db3591fdc3ec48",
       "version_major": 2,
       "version_minor": 0
      },
      "text/plain": [
       "  0%|          | 0/119 [00:00<?, ?it/s]"
      ]
     },
     "metadata": {},
     "output_type": "display_data"
    },
    {
     "name": "stdout",
     "output_type": "stream",
     "text": [
      "[Epoch: 30/100] [Batch: 119/119] [D loss: 0.246868] [G loss: 2.413522]\n"
     ]
    },
    {
     "data": {
      "application/vnd.jupyter.widget-view+json": {
       "model_id": "33e88b3ae8b149e0a2650c0d36d1b80d",
       "version_major": 2,
       "version_minor": 0
      },
      "text/plain": [
       "  0%|          | 0/119 [00:00<?, ?it/s]"
      ]
     },
     "metadata": {},
     "output_type": "display_data"
    },
    {
     "name": "stdout",
     "output_type": "stream",
     "text": [
      "[Epoch: 31/100] [Batch: 119/119] [D loss: 0.279562] [G loss: 2.006667]\n"
     ]
    },
    {
     "data": {
      "application/vnd.jupyter.widget-view+json": {
       "model_id": "944c24b34f444e4db8aca2a66fc7a2e3",
       "version_major": 2,
       "version_minor": 0
      },
      "text/plain": [
       "  0%|          | 0/119 [00:00<?, ?it/s]"
      ]
     },
     "metadata": {},
     "output_type": "display_data"
    },
    {
     "name": "stdout",
     "output_type": "stream",
     "text": [
      "[Epoch: 32/100] [Batch: 119/119] [D loss: 0.155711] [G loss: 2.536396]\n"
     ]
    },
    {
     "data": {
      "application/vnd.jupyter.widget-view+json": {
       "model_id": "07232543275844d59dee540487b70330",
       "version_major": 2,
       "version_minor": 0
      },
      "text/plain": [
       "  0%|          | 0/119 [00:00<?, ?it/s]"
      ]
     },
     "metadata": {},
     "output_type": "display_data"
    },
    {
     "name": "stdout",
     "output_type": "stream",
     "text": [
      "[Epoch: 33/100] [Batch: 119/119] [D loss: 0.217110] [G loss: 2.574484]\n"
     ]
    },
    {
     "data": {
      "application/vnd.jupyter.widget-view+json": {
       "model_id": "91043e77a3a34d009d9afc216b56927b",
       "version_major": 2,
       "version_minor": 0
      },
      "text/plain": [
       "  0%|          | 0/119 [00:00<?, ?it/s]"
      ]
     },
     "metadata": {},
     "output_type": "display_data"
    },
    {
     "name": "stdout",
     "output_type": "stream",
     "text": [
      "[Epoch: 34/100] [Batch: 119/119] [D loss: 0.177469] [G loss: 2.842422]\n"
     ]
    },
    {
     "data": {
      "application/vnd.jupyter.widget-view+json": {
       "model_id": "032820d6e3474af48a40c88ffdbcce6f",
       "version_major": 2,
       "version_minor": 0
      },
      "text/plain": [
       "  0%|          | 0/119 [00:00<?, ?it/s]"
      ]
     },
     "metadata": {},
     "output_type": "display_data"
    },
    {
     "name": "stdout",
     "output_type": "stream",
     "text": [
      "[Epoch: 35/100] [Batch: 119/119] [D loss: 0.198980] [G loss: 2.620657]\n"
     ]
    },
    {
     "data": {
      "application/vnd.jupyter.widget-view+json": {
       "model_id": "da77cb2bd7c94f82b10357571660e24a",
       "version_major": 2,
       "version_minor": 0
      },
      "text/plain": [
       "  0%|          | 0/119 [00:00<?, ?it/s]"
      ]
     },
     "metadata": {},
     "output_type": "display_data"
    },
    {
     "name": "stdout",
     "output_type": "stream",
     "text": [
      "[Epoch: 36/100] [Batch: 119/119] [D loss: 0.153843] [G loss: 2.864476]\n"
     ]
    },
    {
     "data": {
      "application/vnd.jupyter.widget-view+json": {
       "model_id": "5fe8b1a5b0874dedabca673a8bc6ab64",
       "version_major": 2,
       "version_minor": 0
      },
      "text/plain": [
       "  0%|          | 0/119 [00:00<?, ?it/s]"
      ]
     },
     "metadata": {},
     "output_type": "display_data"
    },
    {
     "name": "stdout",
     "output_type": "stream",
     "text": [
      "[Epoch: 37/100] [Batch: 119/119] [D loss: 0.161165] [G loss: 2.553497]\n"
     ]
    },
    {
     "data": {
      "application/vnd.jupyter.widget-view+json": {
       "model_id": "5cf23e518d734b90a924ff0533def19b",
       "version_major": 2,
       "version_minor": 0
      },
      "text/plain": [
       "  0%|          | 0/119 [00:00<?, ?it/s]"
      ]
     },
     "metadata": {},
     "output_type": "display_data"
    },
    {
     "name": "stdout",
     "output_type": "stream",
     "text": [
      "[Epoch: 38/100] [Batch: 119/119] [D loss: 0.170095] [G loss: 2.824549]\n"
     ]
    },
    {
     "data": {
      "application/vnd.jupyter.widget-view+json": {
       "model_id": "ec96d97896614aad96b8a26fba76afd2",
       "version_major": 2,
       "version_minor": 0
      },
      "text/plain": [
       "  0%|          | 0/119 [00:00<?, ?it/s]"
      ]
     },
     "metadata": {},
     "output_type": "display_data"
    },
    {
     "name": "stdout",
     "output_type": "stream",
     "text": [
      "[Epoch: 39/100] [Batch: 119/119] [D loss: 0.229299] [G loss: 2.293763]\n"
     ]
    },
    {
     "data": {
      "application/vnd.jupyter.widget-view+json": {
       "model_id": "18a0442c37524462beafab891a81819b",
       "version_major": 2,
       "version_minor": 0
      },
      "text/plain": [
       "  0%|          | 0/119 [00:00<?, ?it/s]"
      ]
     },
     "metadata": {},
     "output_type": "display_data"
    },
    {
     "name": "stdout",
     "output_type": "stream",
     "text": [
      "[Epoch: 40/100] [Batch: 119/119] [D loss: 0.208979] [G loss: 3.555490]\n"
     ]
    },
    {
     "data": {
      "application/vnd.jupyter.widget-view+json": {
       "model_id": "79a2292faf674f59bc23d4a27ee3c764",
       "version_major": 2,
       "version_minor": 0
      },
      "text/plain": [
       "  0%|          | 0/119 [00:00<?, ?it/s]"
      ]
     },
     "metadata": {},
     "output_type": "display_data"
    },
    {
     "name": "stdout",
     "output_type": "stream",
     "text": [
      "[Epoch: 41/100] [Batch: 119/119] [D loss: 0.287548] [G loss: 2.308989]\n"
     ]
    },
    {
     "data": {
      "application/vnd.jupyter.widget-view+json": {
       "model_id": "eb93e763a1be43aaa48d0870aa9234f2",
       "version_major": 2,
       "version_minor": 0
      },
      "text/plain": [
       "  0%|          | 0/119 [00:00<?, ?it/s]"
      ]
     },
     "metadata": {},
     "output_type": "display_data"
    },
    {
     "name": "stdout",
     "output_type": "stream",
     "text": [
      "[Epoch: 42/100] [Batch: 119/119] [D loss: 0.181025] [G loss: 2.436328]\n"
     ]
    },
    {
     "data": {
      "application/vnd.jupyter.widget-view+json": {
       "model_id": "8ab8a3192bad4a228f94ade37fdce96a",
       "version_major": 2,
       "version_minor": 0
      },
      "text/plain": [
       "  0%|          | 0/119 [00:00<?, ?it/s]"
      ]
     },
     "metadata": {},
     "output_type": "display_data"
    },
    {
     "name": "stdout",
     "output_type": "stream",
     "text": [
      "[Epoch: 43/100] [Batch: 119/119] [D loss: 0.124169] [G loss: 2.534946]\n"
     ]
    },
    {
     "data": {
      "application/vnd.jupyter.widget-view+json": {
       "model_id": "0e2516f69f484293babf5d66dac1bd84",
       "version_major": 2,
       "version_minor": 0
      },
      "text/plain": [
       "  0%|          | 0/119 [00:00<?, ?it/s]"
      ]
     },
     "metadata": {},
     "output_type": "display_data"
    },
    {
     "name": "stdout",
     "output_type": "stream",
     "text": [
      "[Epoch: 44/100] [Batch: 119/119] [D loss: 0.148052] [G loss: 2.203298]\n"
     ]
    },
    {
     "data": {
      "application/vnd.jupyter.widget-view+json": {
       "model_id": "292d6cebf55241c7a3977a748d6b806d",
       "version_major": 2,
       "version_minor": 0
      },
      "text/plain": [
       "  0%|          | 0/119 [00:00<?, ?it/s]"
      ]
     },
     "metadata": {},
     "output_type": "display_data"
    },
    {
     "name": "stdout",
     "output_type": "stream",
     "text": [
      "[Epoch: 45/100] [Batch: 119/119] [D loss: 0.145121] [G loss: 2.355784]\n"
     ]
    },
    {
     "data": {
      "application/vnd.jupyter.widget-view+json": {
       "model_id": "e64b06bc44c0413b9ee853db1f0b9676",
       "version_major": 2,
       "version_minor": 0
      },
      "text/plain": [
       "  0%|          | 0/119 [00:00<?, ?it/s]"
      ]
     },
     "metadata": {},
     "output_type": "display_data"
    },
    {
     "name": "stdout",
     "output_type": "stream",
     "text": [
      "[Epoch: 46/100] [Batch: 119/119] [D loss: 0.278440] [G loss: 2.821736]\n"
     ]
    },
    {
     "data": {
      "application/vnd.jupyter.widget-view+json": {
       "model_id": "35629f3bf7ab4256a2d906d8af2dbd6f",
       "version_major": 2,
       "version_minor": 0
      },
      "text/plain": [
       "  0%|          | 0/119 [00:00<?, ?it/s]"
      ]
     },
     "metadata": {},
     "output_type": "display_data"
    },
    {
     "name": "stdout",
     "output_type": "stream",
     "text": [
      "[Epoch: 47/100] [Batch: 119/119] [D loss: 0.299202] [G loss: 2.703568]\n"
     ]
    },
    {
     "data": {
      "application/vnd.jupyter.widget-view+json": {
       "model_id": "6f2857282e7447809fdd6d739331bff9",
       "version_major": 2,
       "version_minor": 0
      },
      "text/plain": [
       "  0%|          | 0/119 [00:00<?, ?it/s]"
      ]
     },
     "metadata": {},
     "output_type": "display_data"
    },
    {
     "name": "stdout",
     "output_type": "stream",
     "text": [
      "[Epoch: 48/100] [Batch: 119/119] [D loss: 0.131792] [G loss: 3.254280]\n"
     ]
    },
    {
     "data": {
      "application/vnd.jupyter.widget-view+json": {
       "model_id": "c0169355aa6b485985a7bb3b57da3832",
       "version_major": 2,
       "version_minor": 0
      },
      "text/plain": [
       "  0%|          | 0/119 [00:00<?, ?it/s]"
      ]
     },
     "metadata": {},
     "output_type": "display_data"
    },
    {
     "name": "stdout",
     "output_type": "stream",
     "text": [
      "[Epoch: 49/100] [Batch: 119/119] [D loss: 0.112049] [G loss: 3.282476]\n"
     ]
    },
    {
     "data": {
      "application/vnd.jupyter.widget-view+json": {
       "model_id": "316924e27e9f4360b86292ca0f74a1ff",
       "version_major": 2,
       "version_minor": 0
      },
      "text/plain": [
       "  0%|          | 0/119 [00:00<?, ?it/s]"
      ]
     },
     "metadata": {},
     "output_type": "display_data"
    },
    {
     "name": "stdout",
     "output_type": "stream",
     "text": [
      "[Epoch: 50/100] [Batch: 119/119] [D loss: 0.141210] [G loss: 3.286157]\n"
     ]
    },
    {
     "data": {
      "application/vnd.jupyter.widget-view+json": {
       "model_id": "a23e2eab25894d04a60c011b1e9c1b49",
       "version_major": 2,
       "version_minor": 0
      },
      "text/plain": [
       "  0%|          | 0/119 [00:00<?, ?it/s]"
      ]
     },
     "metadata": {},
     "output_type": "display_data"
    },
    {
     "name": "stdout",
     "output_type": "stream",
     "text": [
      "[Epoch: 51/100] [Batch: 119/119] [D loss: 0.363205] [G loss: 2.877632]\n"
     ]
    },
    {
     "data": {
      "application/vnd.jupyter.widget-view+json": {
       "model_id": "1a58331d9ebb49cc9bb8d9a671c48b70",
       "version_major": 2,
       "version_minor": 0
      },
      "text/plain": [
       "  0%|          | 0/119 [00:00<?, ?it/s]"
      ]
     },
     "metadata": {},
     "output_type": "display_data"
    },
    {
     "name": "stdout",
     "output_type": "stream",
     "text": [
      "[Epoch: 52/100] [Batch: 119/119] [D loss: 0.322000] [G loss: 2.710918]\n"
     ]
    },
    {
     "data": {
      "application/vnd.jupyter.widget-view+json": {
       "model_id": "da241db6ba2d4504b9b9d48788e5e724",
       "version_major": 2,
       "version_minor": 0
      },
      "text/plain": [
       "  0%|          | 0/119 [00:00<?, ?it/s]"
      ]
     },
     "metadata": {},
     "output_type": "display_data"
    },
    {
     "name": "stdout",
     "output_type": "stream",
     "text": [
      "[Epoch: 53/100] [Batch: 119/119] [D loss: 0.211944] [G loss: 2.619720]\n"
     ]
    },
    {
     "data": {
      "application/vnd.jupyter.widget-view+json": {
       "model_id": "85409af38c1f4e17ab4b4a59276bc867",
       "version_major": 2,
       "version_minor": 0
      },
      "text/plain": [
       "  0%|          | 0/119 [00:00<?, ?it/s]"
      ]
     },
     "metadata": {},
     "output_type": "display_data"
    },
    {
     "name": "stdout",
     "output_type": "stream",
     "text": [
      "[Epoch: 54/100] [Batch: 119/119] [D loss: 0.185352] [G loss: 2.423753]\n"
     ]
    },
    {
     "data": {
      "application/vnd.jupyter.widget-view+json": {
       "model_id": "abc0e6361bff448095e80c8da7efa1fb",
       "version_major": 2,
       "version_minor": 0
      },
      "text/plain": [
       "  0%|          | 0/119 [00:00<?, ?it/s]"
      ]
     },
     "metadata": {},
     "output_type": "display_data"
    },
    {
     "name": "stdout",
     "output_type": "stream",
     "text": [
      "[Epoch: 55/100] [Batch: 119/119] [D loss: 0.184282] [G loss: 2.686539]\n"
     ]
    },
    {
     "data": {
      "application/vnd.jupyter.widget-view+json": {
       "model_id": "d1f2a7c3ab6e4d219c0dc1b724175c63",
       "version_major": 2,
       "version_minor": 0
      },
      "text/plain": [
       "  0%|          | 0/119 [00:00<?, ?it/s]"
      ]
     },
     "metadata": {},
     "output_type": "display_data"
    },
    {
     "name": "stdout",
     "output_type": "stream",
     "text": [
      "[Epoch: 56/100] [Batch: 119/119] [D loss: 0.253167] [G loss: 2.328629]\n"
     ]
    },
    {
     "data": {
      "application/vnd.jupyter.widget-view+json": {
       "model_id": "320dfffd4d514751bd553c23996e6cc9",
       "version_major": 2,
       "version_minor": 0
      },
      "text/plain": [
       "  0%|          | 0/119 [00:00<?, ?it/s]"
      ]
     },
     "metadata": {},
     "output_type": "display_data"
    },
    {
     "name": "stdout",
     "output_type": "stream",
     "text": [
      "[Epoch: 57/100] [Batch: 119/119] [D loss: 0.197816] [G loss: 2.702744]\n"
     ]
    },
    {
     "data": {
      "application/vnd.jupyter.widget-view+json": {
       "model_id": "49a421b6ccd9473f823c61833828835b",
       "version_major": 2,
       "version_minor": 0
      },
      "text/plain": [
       "  0%|          | 0/119 [00:00<?, ?it/s]"
      ]
     },
     "metadata": {},
     "output_type": "display_data"
    },
    {
     "name": "stdout",
     "output_type": "stream",
     "text": [
      "[Epoch: 58/100] [Batch: 119/119] [D loss: 0.216757] [G loss: 2.315917]\n"
     ]
    },
    {
     "data": {
      "application/vnd.jupyter.widget-view+json": {
       "model_id": "49485bb4bc174ebf902466b4ff4991e0",
       "version_major": 2,
       "version_minor": 0
      },
      "text/plain": [
       "  0%|          | 0/119 [00:00<?, ?it/s]"
      ]
     },
     "metadata": {},
     "output_type": "display_data"
    },
    {
     "name": "stdout",
     "output_type": "stream",
     "text": [
      "[Epoch: 59/100] [Batch: 119/119] [D loss: 0.186287] [G loss: 3.468833]\n"
     ]
    },
    {
     "data": {
      "application/vnd.jupyter.widget-view+json": {
       "model_id": "4ef377c5ec814fcd8c801fa4ce059a74",
       "version_major": 2,
       "version_minor": 0
      },
      "text/plain": [
       "  0%|          | 0/119 [00:00<?, ?it/s]"
      ]
     },
     "metadata": {},
     "output_type": "display_data"
    },
    {
     "name": "stdout",
     "output_type": "stream",
     "text": [
      "[Epoch: 60/100] [Batch: 119/119] [D loss: 0.226044] [G loss: 2.344054]\n"
     ]
    },
    {
     "data": {
      "application/vnd.jupyter.widget-view+json": {
       "model_id": "c9dc981df23f4efe861b7187ca72ef95",
       "version_major": 2,
       "version_minor": 0
      },
      "text/plain": [
       "  0%|          | 0/119 [00:00<?, ?it/s]"
      ]
     },
     "metadata": {},
     "output_type": "display_data"
    },
    {
     "name": "stdout",
     "output_type": "stream",
     "text": [
      "[Epoch: 61/100] [Batch: 119/119] [D loss: 0.290014] [G loss: 2.718395]\n"
     ]
    },
    {
     "data": {
      "application/vnd.jupyter.widget-view+json": {
       "model_id": "481fd86593694d0ca046064a69e3fb96",
       "version_major": 2,
       "version_minor": 0
      },
      "text/plain": [
       "  0%|          | 0/119 [00:00<?, ?it/s]"
      ]
     },
     "metadata": {},
     "output_type": "display_data"
    },
    {
     "name": "stdout",
     "output_type": "stream",
     "text": [
      "[Epoch: 62/100] [Batch: 119/119] [D loss: 0.183498] [G loss: 3.092528]\n"
     ]
    },
    {
     "data": {
      "application/vnd.jupyter.widget-view+json": {
       "model_id": "0f869e7f312d4480a2bbf3c88ff473d8",
       "version_major": 2,
       "version_minor": 0
      },
      "text/plain": [
       "  0%|          | 0/119 [00:00<?, ?it/s]"
      ]
     },
     "metadata": {},
     "output_type": "display_data"
    },
    {
     "name": "stdout",
     "output_type": "stream",
     "text": [
      "[Epoch: 63/100] [Batch: 119/119] [D loss: 0.127154] [G loss: 2.340019]\n"
     ]
    },
    {
     "data": {
      "application/vnd.jupyter.widget-view+json": {
       "model_id": "f73fac17f3d4447a83a05d840a5c8b77",
       "version_major": 2,
       "version_minor": 0
      },
      "text/plain": [
       "  0%|          | 0/119 [00:00<?, ?it/s]"
      ]
     },
     "metadata": {},
     "output_type": "display_data"
    },
    {
     "name": "stdout",
     "output_type": "stream",
     "text": [
      "[Epoch: 64/100] [Batch: 119/119] [D loss: 0.176426] [G loss: 2.691741]\n"
     ]
    },
    {
     "data": {
      "application/vnd.jupyter.widget-view+json": {
       "model_id": "68d04f10c0d9471ab9a61a462251ddc1",
       "version_major": 2,
       "version_minor": 0
      },
      "text/plain": [
       "  0%|          | 0/119 [00:00<?, ?it/s]"
      ]
     },
     "metadata": {},
     "output_type": "display_data"
    },
    {
     "name": "stdout",
     "output_type": "stream",
     "text": [
      "[Epoch: 65/100] [Batch: 119/119] [D loss: 0.291648] [G loss: 2.903255]\n"
     ]
    },
    {
     "data": {
      "application/vnd.jupyter.widget-view+json": {
       "model_id": "8e3fe3f45f164131907a985c3928319c",
       "version_major": 2,
       "version_minor": 0
      },
      "text/plain": [
       "  0%|          | 0/119 [00:00<?, ?it/s]"
      ]
     },
     "metadata": {},
     "output_type": "display_data"
    },
    {
     "name": "stdout",
     "output_type": "stream",
     "text": [
      "[Epoch: 66/100] [Batch: 119/119] [D loss: 0.187592] [G loss: 2.813371]\n"
     ]
    },
    {
     "data": {
      "application/vnd.jupyter.widget-view+json": {
       "model_id": "5913d46deca6487289107eb01ec098d0",
       "version_major": 2,
       "version_minor": 0
      },
      "text/plain": [
       "  0%|          | 0/119 [00:00<?, ?it/s]"
      ]
     },
     "metadata": {},
     "output_type": "display_data"
    },
    {
     "name": "stdout",
     "output_type": "stream",
     "text": [
      "[Epoch: 67/100] [Batch: 119/119] [D loss: 0.161369] [G loss: 2.267181]\n"
     ]
    },
    {
     "data": {
      "application/vnd.jupyter.widget-view+json": {
       "model_id": "9acf40064b304a8ca353b65b34faed15",
       "version_major": 2,
       "version_minor": 0
      },
      "text/plain": [
       "  0%|          | 0/119 [00:00<?, ?it/s]"
      ]
     },
     "metadata": {},
     "output_type": "display_data"
    },
    {
     "name": "stdout",
     "output_type": "stream",
     "text": [
      "[Epoch: 68/100] [Batch: 119/119] [D loss: 0.255607] [G loss: 2.379218]\n"
     ]
    },
    {
     "data": {
      "application/vnd.jupyter.widget-view+json": {
       "model_id": "75ee76fe02cf4cb7962287ea95d35453",
       "version_major": 2,
       "version_minor": 0
      },
      "text/plain": [
       "  0%|          | 0/119 [00:00<?, ?it/s]"
      ]
     },
     "metadata": {},
     "output_type": "display_data"
    },
    {
     "name": "stdout",
     "output_type": "stream",
     "text": [
      "[Epoch: 69/100] [Batch: 119/119] [D loss: 0.126699] [G loss: 2.539584]\n"
     ]
    },
    {
     "data": {
      "application/vnd.jupyter.widget-view+json": {
       "model_id": "3ba2c86140be4d71a9aa0ef95db2ce1b",
       "version_major": 2,
       "version_minor": 0
      },
      "text/plain": [
       "  0%|          | 0/119 [00:00<?, ?it/s]"
      ]
     },
     "metadata": {},
     "output_type": "display_data"
    },
    {
     "name": "stdout",
     "output_type": "stream",
     "text": [
      "[Epoch: 70/100] [Batch: 119/119] [D loss: 0.221996] [G loss: 3.075410]\n"
     ]
    },
    {
     "data": {
      "application/vnd.jupyter.widget-view+json": {
       "model_id": "cfb154560b584caa8a81fb24a9d7be1c",
       "version_major": 2,
       "version_minor": 0
      },
      "text/plain": [
       "  0%|          | 0/119 [00:00<?, ?it/s]"
      ]
     },
     "metadata": {},
     "output_type": "display_data"
    },
    {
     "name": "stdout",
     "output_type": "stream",
     "text": [
      "[Epoch: 71/100] [Batch: 119/119] [D loss: 0.203435] [G loss: 2.945977]\n"
     ]
    },
    {
     "data": {
      "application/vnd.jupyter.widget-view+json": {
       "model_id": "c51da2c5fef645b599b426f46817f60d",
       "version_major": 2,
       "version_minor": 0
      },
      "text/plain": [
       "  0%|          | 0/119 [00:00<?, ?it/s]"
      ]
     },
     "metadata": {},
     "output_type": "display_data"
    },
    {
     "name": "stdout",
     "output_type": "stream",
     "text": [
      "[Epoch: 72/100] [Batch: 119/119] [D loss: 0.195201] [G loss: 2.598233]\n"
     ]
    },
    {
     "data": {
      "application/vnd.jupyter.widget-view+json": {
       "model_id": "e7e5cc7670224730b557a8f092b911ee",
       "version_major": 2,
       "version_minor": 0
      },
      "text/plain": [
       "  0%|          | 0/119 [00:00<?, ?it/s]"
      ]
     },
     "metadata": {},
     "output_type": "display_data"
    },
    {
     "name": "stdout",
     "output_type": "stream",
     "text": [
      "[Epoch: 73/100] [Batch: 119/119] [D loss: 0.219433] [G loss: 2.757442]\n"
     ]
    },
    {
     "data": {
      "application/vnd.jupyter.widget-view+json": {
       "model_id": "53b3ba0520554f48bd10145bfe4451d7",
       "version_major": 2,
       "version_minor": 0
      },
      "text/plain": [
       "  0%|          | 0/119 [00:00<?, ?it/s]"
      ]
     },
     "metadata": {},
     "output_type": "display_data"
    },
    {
     "name": "stdout",
     "output_type": "stream",
     "text": [
      "[Epoch: 74/100] [Batch: 119/119] [D loss: 0.209739] [G loss: 2.143539]\n"
     ]
    },
    {
     "data": {
      "application/vnd.jupyter.widget-view+json": {
       "model_id": "2e0a79068189477da32bee27ddf9a982",
       "version_major": 2,
       "version_minor": 0
      },
      "text/plain": [
       "  0%|          | 0/119 [00:00<?, ?it/s]"
      ]
     },
     "metadata": {},
     "output_type": "display_data"
    },
    {
     "name": "stdout",
     "output_type": "stream",
     "text": [
      "[Epoch: 75/100] [Batch: 119/119] [D loss: 0.196606] [G loss: 2.895274]\n"
     ]
    },
    {
     "data": {
      "application/vnd.jupyter.widget-view+json": {
       "model_id": "4a778f39e76c40279865ffdc3fe48adc",
       "version_major": 2,
       "version_minor": 0
      },
      "text/plain": [
       "  0%|          | 0/119 [00:00<?, ?it/s]"
      ]
     },
     "metadata": {},
     "output_type": "display_data"
    },
    {
     "name": "stdout",
     "output_type": "stream",
     "text": [
      "[Epoch: 76/100] [Batch: 119/119] [D loss: 0.296283] [G loss: 2.452370]\n"
     ]
    },
    {
     "data": {
      "application/vnd.jupyter.widget-view+json": {
       "model_id": "eb19df462b164eac8fc05925b1d5e316",
       "version_major": 2,
       "version_minor": 0
      },
      "text/plain": [
       "  0%|          | 0/119 [00:00<?, ?it/s]"
      ]
     },
     "metadata": {},
     "output_type": "display_data"
    },
    {
     "name": "stdout",
     "output_type": "stream",
     "text": [
      "[Epoch: 77/100] [Batch: 119/119] [D loss: 0.164754] [G loss: 2.714877]\n"
     ]
    },
    {
     "data": {
      "application/vnd.jupyter.widget-view+json": {
       "model_id": "37f00cd9699d40a197c3d87bc665eaeb",
       "version_major": 2,
       "version_minor": 0
      },
      "text/plain": [
       "  0%|          | 0/119 [00:00<?, ?it/s]"
      ]
     },
     "metadata": {},
     "output_type": "display_data"
    },
    {
     "name": "stdout",
     "output_type": "stream",
     "text": [
      "[Epoch: 78/100] [Batch: 119/119] [D loss: 0.275655] [G loss: 2.230437]\n"
     ]
    },
    {
     "data": {
      "application/vnd.jupyter.widget-view+json": {
       "model_id": "b38c61197f474fba9875adbd188e25f1",
       "version_major": 2,
       "version_minor": 0
      },
      "text/plain": [
       "  0%|          | 0/119 [00:00<?, ?it/s]"
      ]
     },
     "metadata": {},
     "output_type": "display_data"
    },
    {
     "name": "stdout",
     "output_type": "stream",
     "text": [
      "[Epoch: 79/100] [Batch: 119/119] [D loss: 0.209655] [G loss: 3.016849]\n"
     ]
    },
    {
     "data": {
      "application/vnd.jupyter.widget-view+json": {
       "model_id": "4f778d2976704cfa9ed516cd88b8ff03",
       "version_major": 2,
       "version_minor": 0
      },
      "text/plain": [
       "  0%|          | 0/119 [00:00<?, ?it/s]"
      ]
     },
     "metadata": {},
     "output_type": "display_data"
    },
    {
     "name": "stdout",
     "output_type": "stream",
     "text": [
      "[Epoch: 80/100] [Batch: 119/119] [D loss: 0.217464] [G loss: 2.297614]\n"
     ]
    },
    {
     "data": {
      "application/vnd.jupyter.widget-view+json": {
       "model_id": "ad11def85d8e440d9fb4023de7744e85",
       "version_major": 2,
       "version_minor": 0
      },
      "text/plain": [
       "  0%|          | 0/119 [00:00<?, ?it/s]"
      ]
     },
     "metadata": {},
     "output_type": "display_data"
    },
    {
     "name": "stdout",
     "output_type": "stream",
     "text": [
      "[Epoch: 81/100] [Batch: 119/119] [D loss: 0.206196] [G loss: 2.290372]\n"
     ]
    },
    {
     "data": {
      "application/vnd.jupyter.widget-view+json": {
       "model_id": "ab521ccffceb4d208d6c485d31c70fdc",
       "version_major": 2,
       "version_minor": 0
      },
      "text/plain": [
       "  0%|          | 0/119 [00:00<?, ?it/s]"
      ]
     },
     "metadata": {},
     "output_type": "display_data"
    },
    {
     "name": "stdout",
     "output_type": "stream",
     "text": [
      "[Epoch: 82/100] [Batch: 119/119] [D loss: 0.285749] [G loss: 2.404214]\n"
     ]
    },
    {
     "data": {
      "application/vnd.jupyter.widget-view+json": {
       "model_id": "ba677d8ed10c4a6695b0807700e725ac",
       "version_major": 2,
       "version_minor": 0
      },
      "text/plain": [
       "  0%|          | 0/119 [00:00<?, ?it/s]"
      ]
     },
     "metadata": {},
     "output_type": "display_data"
    },
    {
     "name": "stdout",
     "output_type": "stream",
     "text": [
      "[Epoch: 83/100] [Batch: 119/119] [D loss: 0.234435] [G loss: 2.300222]\n"
     ]
    },
    {
     "data": {
      "application/vnd.jupyter.widget-view+json": {
       "model_id": "2eac9aec7a3f4d6bb82f8a53a0a87a2a",
       "version_major": 2,
       "version_minor": 0
      },
      "text/plain": [
       "  0%|          | 0/119 [00:00<?, ?it/s]"
      ]
     },
     "metadata": {},
     "output_type": "display_data"
    },
    {
     "name": "stdout",
     "output_type": "stream",
     "text": [
      "[Epoch: 84/100] [Batch: 119/119] [D loss: 0.174041] [G loss: 2.780854]\n"
     ]
    },
    {
     "data": {
      "application/vnd.jupyter.widget-view+json": {
       "model_id": "8a8f8c003f1e4500a958e077d02142cf",
       "version_major": 2,
       "version_minor": 0
      },
      "text/plain": [
       "  0%|          | 0/119 [00:00<?, ?it/s]"
      ]
     },
     "metadata": {},
     "output_type": "display_data"
    },
    {
     "name": "stdout",
     "output_type": "stream",
     "text": [
      "[Epoch: 85/100] [Batch: 119/119] [D loss: 0.158920] [G loss: 2.850631]\n"
     ]
    },
    {
     "data": {
      "application/vnd.jupyter.widget-view+json": {
       "model_id": "19907bdd80014df1a2230418ece52bc4",
       "version_major": 2,
       "version_minor": 0
      },
      "text/plain": [
       "  0%|          | 0/119 [00:00<?, ?it/s]"
      ]
     },
     "metadata": {},
     "output_type": "display_data"
    },
    {
     "name": "stdout",
     "output_type": "stream",
     "text": [
      "[Epoch: 86/100] [Batch: 119/119] [D loss: 0.229514] [G loss: 2.539531]\n"
     ]
    },
    {
     "data": {
      "application/vnd.jupyter.widget-view+json": {
       "model_id": "6f6da97daa0c4dbc9fde2a92a478a1cd",
       "version_major": 2,
       "version_minor": 0
      },
      "text/plain": [
       "  0%|          | 0/119 [00:00<?, ?it/s]"
      ]
     },
     "metadata": {},
     "output_type": "display_data"
    },
    {
     "name": "stdout",
     "output_type": "stream",
     "text": [
      "[Epoch: 87/100] [Batch: 119/119] [D loss: 0.188586] [G loss: 2.804878]\n"
     ]
    },
    {
     "data": {
      "application/vnd.jupyter.widget-view+json": {
       "model_id": "aabe2b1ccd7f45d19727dae7e5cf0684",
       "version_major": 2,
       "version_minor": 0
      },
      "text/plain": [
       "  0%|          | 0/119 [00:00<?, ?it/s]"
      ]
     },
     "metadata": {},
     "output_type": "display_data"
    },
    {
     "name": "stdout",
     "output_type": "stream",
     "text": [
      "[Epoch: 88/100] [Batch: 119/119] [D loss: 0.191367] [G loss: 2.135504]\n"
     ]
    },
    {
     "data": {
      "application/vnd.jupyter.widget-view+json": {
       "model_id": "2cae2973d16d429dbe660ceb7c176841",
       "version_major": 2,
       "version_minor": 0
      },
      "text/plain": [
       "  0%|          | 0/119 [00:00<?, ?it/s]"
      ]
     },
     "metadata": {},
     "output_type": "display_data"
    },
    {
     "name": "stdout",
     "output_type": "stream",
     "text": [
      "[Epoch: 89/100] [Batch: 119/119] [D loss: 0.200536] [G loss: 2.881351]\n"
     ]
    },
    {
     "data": {
      "application/vnd.jupyter.widget-view+json": {
       "model_id": "5726faa1d2964a30b5bad86f41b1c7bf",
       "version_major": 2,
       "version_minor": 0
      },
      "text/plain": [
       "  0%|          | 0/119 [00:00<?, ?it/s]"
      ]
     },
     "metadata": {},
     "output_type": "display_data"
    },
    {
     "name": "stdout",
     "output_type": "stream",
     "text": [
      "[Epoch: 90/100] [Batch: 119/119] [D loss: 0.166724] [G loss: 2.882012]\n"
     ]
    },
    {
     "data": {
      "application/vnd.jupyter.widget-view+json": {
       "model_id": "8717ae836cfa418c9d0befd02979d647",
       "version_major": 2,
       "version_minor": 0
      },
      "text/plain": [
       "  0%|          | 0/119 [00:00<?, ?it/s]"
      ]
     },
     "metadata": {},
     "output_type": "display_data"
    },
    {
     "name": "stdout",
     "output_type": "stream",
     "text": [
      "[Epoch: 91/100] [Batch: 119/119] [D loss: 0.193069] [G loss: 2.669895]\n"
     ]
    },
    {
     "data": {
      "application/vnd.jupyter.widget-view+json": {
       "model_id": "7720abaf19934fd59cca1dbba9c013d3",
       "version_major": 2,
       "version_minor": 0
      },
      "text/plain": [
       "  0%|          | 0/119 [00:00<?, ?it/s]"
      ]
     },
     "metadata": {},
     "output_type": "display_data"
    },
    {
     "name": "stdout",
     "output_type": "stream",
     "text": [
      "[Epoch: 92/100] [Batch: 119/119] [D loss: 0.316326] [G loss: 3.026190]\n"
     ]
    },
    {
     "data": {
      "application/vnd.jupyter.widget-view+json": {
       "model_id": "9dd2c91149b8431fa23b2633649ae08f",
       "version_major": 2,
       "version_minor": 0
      },
      "text/plain": [
       "  0%|          | 0/119 [00:00<?, ?it/s]"
      ]
     },
     "metadata": {},
     "output_type": "display_data"
    },
    {
     "name": "stdout",
     "output_type": "stream",
     "text": [
      "[Epoch: 93/100] [Batch: 119/119] [D loss: 0.310360] [G loss: 2.466489]\n"
     ]
    },
    {
     "data": {
      "application/vnd.jupyter.widget-view+json": {
       "model_id": "e34b4e2bb81346af8431b85b45a710c8",
       "version_major": 2,
       "version_minor": 0
      },
      "text/plain": [
       "  0%|          | 0/119 [00:00<?, ?it/s]"
      ]
     },
     "metadata": {},
     "output_type": "display_data"
    },
    {
     "name": "stdout",
     "output_type": "stream",
     "text": [
      "[Epoch: 94/100] [Batch: 119/119] [D loss: 0.244145] [G loss: 2.518806]\n"
     ]
    },
    {
     "data": {
      "application/vnd.jupyter.widget-view+json": {
       "model_id": "6c21a87f66834b008181e07c2adf7bc2",
       "version_major": 2,
       "version_minor": 0
      },
      "text/plain": [
       "  0%|          | 0/119 [00:00<?, ?it/s]"
      ]
     },
     "metadata": {},
     "output_type": "display_data"
    },
    {
     "name": "stdout",
     "output_type": "stream",
     "text": [
      "[Epoch: 95/100] [Batch: 119/119] [D loss: 0.178107] [G loss: 2.209682]\n"
     ]
    },
    {
     "data": {
      "application/vnd.jupyter.widget-view+json": {
       "model_id": "f59516c6091a4fdab84719781a86a913",
       "version_major": 2,
       "version_minor": 0
      },
      "text/plain": [
       "  0%|          | 0/119 [00:00<?, ?it/s]"
      ]
     },
     "metadata": {},
     "output_type": "display_data"
    },
    {
     "name": "stdout",
     "output_type": "stream",
     "text": [
      "[Epoch: 96/100] [Batch: 119/119] [D loss: 0.169704] [G loss: 2.963601]\n"
     ]
    },
    {
     "data": {
      "application/vnd.jupyter.widget-view+json": {
       "model_id": "d65f1676ddb946aab74bf15c1a3b6a26",
       "version_major": 2,
       "version_minor": 0
      },
      "text/plain": [
       "  0%|          | 0/119 [00:00<?, ?it/s]"
      ]
     },
     "metadata": {},
     "output_type": "display_data"
    },
    {
     "name": "stdout",
     "output_type": "stream",
     "text": [
      "[Epoch: 97/100] [Batch: 119/119] [D loss: 0.201600] [G loss: 2.976677]\n"
     ]
    },
    {
     "data": {
      "application/vnd.jupyter.widget-view+json": {
       "model_id": "c8d304966a53498aa2297b8f398591c5",
       "version_major": 2,
       "version_minor": 0
      },
      "text/plain": [
       "  0%|          | 0/119 [00:00<?, ?it/s]"
      ]
     },
     "metadata": {},
     "output_type": "display_data"
    },
    {
     "name": "stdout",
     "output_type": "stream",
     "text": [
      "[Epoch: 98/100] [Batch: 119/119] [D loss: 0.211312] [G loss: 2.589715]\n"
     ]
    },
    {
     "data": {
      "application/vnd.jupyter.widget-view+json": {
       "model_id": "9ed10e5b41ef4075a32c93a0b107be21",
       "version_major": 2,
       "version_minor": 0
      },
      "text/plain": [
       "  0%|          | 0/119 [00:00<?, ?it/s]"
      ]
     },
     "metadata": {},
     "output_type": "display_data"
    },
    {
     "name": "stdout",
     "output_type": "stream",
     "text": [
      "[Epoch: 99/100] [Batch: 119/119] [D loss: 0.157037] [G loss: 2.585072]\n"
     ]
    },
    {
     "data": {
      "application/vnd.jupyter.widget-view+json": {
       "model_id": "ed900bca654a43da8a6870a10bfdce14",
       "version_major": 2,
       "version_minor": 0
      },
      "text/plain": [
       "  0%|          | 0/119 [00:00<?, ?it/s]"
      ]
     },
     "metadata": {},
     "output_type": "display_data"
    },
    {
     "name": "stdout",
     "output_type": "stream",
     "text": [
      "[Epoch: 100/100] [Batch: 119/119] [D loss: 0.291724] [G loss: 2.898538]\n"
     ]
    }
   ],
   "source": [
    "n_epochs = 100\n",
    "for epoch in range(n_epochs):\n",
    "    for i, (imgs, _) in enumerate(tqdm(train_loader)): \n",
    "\n",
    "        valid = Variable(Tensor(imgs.size(0),1).fill_(1.0),requires_grad=False)\n",
    "        fake = Variable(Tensor(imgs.size(0),1).fill_(0.0),requires_grad=False)  \n",
    "\n",
    "        real_imgs = imgs.type(Tensor)\n",
    "#тепрь генератор\n",
    "        optimizer_G.zero_grad()\n",
    " \n",
    "        z = Tensor(np.random.normal(0, 1,(imgs.shape[0],latent_dim)))\n",
    "\n",
    "        gen_imgs = generator(z)\n",
    "        g_loss = adversarial_loss(discriminator(gen_imgs),valid)\n",
    "        g_loss.backward()\n",
    "        optimizer_G.step()\n",
    "#дискриминатор\n",
    "        optimizer_D.zero_grad()\n",
    "        real_loss = adversarial_loss(discriminator(real_imgs),valid) \n",
    "        fake_loss = adversarial_loss(discriminator(gen_imgs.detach()),fake)                                                                 \n",
    "        d_loss = (real_loss + fake_loss) / 2\n",
    "        d_loss.backward() \n",
    "        optimizer_D.step()\n",
    "        sample_z_in_train = Tensor(np.random.normal(0, 1, (imgs.shape[0],latent_dim)))\n",
    "        sample_gen_imgs_in_train = generator(sample_z_in_train).detach().cpu()\n",
    "        \n",
    "        if ((i+1) % 200) == 0: \n",
    "            nrow=1\n",
    "            ncols=5\n",
    "            fig, axes = plt.subplots(nrows=nrow,ncols=ncols, figsize=(8,2))\n",
    "            plt.suptitle('EPOCH : {} | BATCH(ITERATION) : {}'.format(epoch+1, i+1))\n",
    "            for ncol in range(ncols):\n",
    "                axes[ncol].imshow(sample_gen_imgs_in_train.permute(0,2,3,1)[ncol], cmap='gray')\n",
    "                axes[ncol].axis('off')\n",
    "            plt.show()\n",
    "    print(\n",
    "        \"[Epoch: %d/%d] [Batch: %d/%d] [D loss: %f] [G loss: %f]\"\n",
    "        % (epoch+1, n_epochs, i+1, len(train_loader), d_loss.item(), g_loss.item()))"
   ]
  },
  {
   "cell_type": "code",
   "execution_count": 36,
   "id": "720c2e34-4a6e-49b6-adf8-8c538cffec5f",
   "metadata": {
    "execution": {
     "iopub.execute_input": "2025-04-30T17:26:37.251028Z",
     "iopub.status.busy": "2025-04-30T17:26:37.250093Z",
     "iopub.status.idle": "2025-04-30T17:26:37.438777Z",
     "shell.execute_reply": "2025-04-30T17:26:37.437969Z",
     "shell.execute_reply.started": "2025-04-30T17:26:37.250975Z"
    },
    "tags": []
   },
   "outputs": [
    {
     "data": {
      "image/png": "[encoded data removed]",
      "text/plain": [
       "<Figure size 1500x200 with 8 Axes>"
      ]
     },
     "metadata": {},
     "output_type": "display_data"
    }
   ],
   "source": [
    "#посмотрим, что сгенерировало и поймем, что ничего не работает\n",
    "generator.eval()\n",
    "\n",
    "n_samples = 8  \n",
    "z = torch.randn(n_samples, latent_dim).to(device) \n",
    "with torch.no_grad():\n",
    "    gen_imgs = generator(z).detach().cpu()\n",
    "gen_imgs = (gen_imgs + 1) / 2\n",
    "fig, axes = plt.subplots(1, n_samples, figsize=(15, 2))\n",
    "for i in range(n_samples):\n",
    "    img = gen_imgs[i].permute(1, 2, 0).numpy()  \n",
    "    axes[i].imshow(img)\n",
    "    axes[i].axis(\"off\")\n",
    "plt.suptitle(\"сгенерированные семплы\")\n",
    "plt.show()"
   ]
  },
  {
   "cell_type": "markdown",
   "id": "2ce3ebaf-3621-4c6d-a00d-8a7a6a9c1f03",
   "metadata": {
    "execution": {
     "iopub.execute_input": "2025-04-30T17:02:26.321083Z",
     "iopub.status.busy": "2025-04-30T17:02:26.320133Z",
     "iopub.status.idle": "2025-04-30T17:02:26.349350Z",
     "shell.execute_reply": "2025-04-30T17:02:26.348563Z",
     "shell.execute_reply.started": "2025-04-30T17:02:26.321040Z"
    }
   },
   "source": [
    "генератор очень нестабильно обучается (и очень плохо как видно). Также это обычный GAN (conditional не работал. поэтому в генерации не учитываются классы модели"
   ]
  },
  {
   "cell_type": "markdown",
   "id": "aa1da4b0-e177-4727-a1f0-742bbdb8f2ad",
   "metadata": {
    "tags": []
   },
   "source": [
    "# Делаем предикт"
   ]
  },
  {
   "cell_type": "code",
   "execution_count": 41,
   "id": "6b7f1113-a6a5-48a3-ac91-2875f0ee66df",
   "metadata": {
    "execution": {
     "iopub.execute_input": "2025-04-30T17:28:09.309968Z",
     "iopub.status.busy": "2025-04-30T17:28:09.309276Z",
     "iopub.status.idle": "2025-04-30T17:28:09.321130Z",
     "shell.execute_reply": "2025-04-30T17:28:09.320439Z",
     "shell.execute_reply.started": "2025-04-30T17:28:09.309936Z"
    },
    "tags": []
   },
   "outputs": [],
   "source": [
    "predict_transform= A.Compose([\n",
    "    #A.Resize(224, 224),\n",
    "    A.Normalize(mean=(0.4914, 0.4822, 0.4465), std=(0.2023, 0.1994, 0.2010)),\n",
    "    ToTensorV2()\n",
    "])"
   ]
  },
  {
   "cell_type": "code",
   "execution_count": 42,
   "id": "fff99b17-e753-4208-a679-8414a5f12d03",
   "metadata": {
    "execution": {
     "iopub.execute_input": "2025-04-30T17:28:13.466502Z",
     "iopub.status.busy": "2025-04-30T17:28:13.465532Z",
     "iopub.status.idle": "2025-04-30T17:28:13.487243Z",
     "shell.execute_reply": "2025-04-30T17:28:13.486554Z",
     "shell.execute_reply.started": "2025-04-30T17:28:13.466465Z"
    },
    "tags": []
   },
   "outputs": [],
   "source": [
    "test_predict = CustomImageDataset(root_dir='data', mode='test', transform=predict_transform)\n",
    "test_predict_loader = DataLoader(test_predict, shuffle=False, batch_size=64, num_workers=4)\n"
   ]
  },
  {
   "cell_type": "code",
   "execution_count": 43,
   "id": "5dd60538-f6fe-4b73-b154-a3e9861319d9",
   "metadata": {
    "execution": {
     "iopub.execute_input": "2025-04-30T17:28:14.899154Z",
     "iopub.status.busy": "2025-04-30T17:28:14.898142Z",
     "iopub.status.idle": "2025-04-30T17:28:14.934758Z",
     "shell.execute_reply": "2025-04-30T17:28:14.933947Z",
     "shell.execute_reply.started": "2025-04-30T17:28:14.899113Z"
    },
    "tags": []
   },
   "outputs": [
    {
     "name": "stdout",
     "output_type": "stream",
     "text": [
      "1902\n"
     ]
    }
   ],
   "source": [
    "print(val_size)"
   ]
  },
  {
   "cell_type": "code",
   "execution_count": 44,
   "id": "0b515e88-7728-4f87-9bc1-dac671c3979f",
   "metadata": {
    "execution": {
     "iopub.execute_input": "2025-04-30T17:28:16.044985Z",
     "iopub.status.busy": "2025-04-30T17:28:16.044031Z",
     "iopub.status.idle": "2025-04-30T17:28:17.231263Z",
     "shell.execute_reply": "2025-04-30T17:28:17.230341Z",
     "shell.execute_reply.started": "2025-04-30T17:28:16.044945Z"
    },
    "tags": []
   },
   "outputs": [
    {
     "name": "stdout",
     "output_type": "stream",
     "text": [
      "torch.Size([3878])\n",
      "tensor([15, 62, 18,  ..., 95, 91, 75])\n"
     ]
    }
   ],
   "source": [
    "\n",
    "# Store predictions\n",
    "all_preds = []\n",
    "\n",
    "with torch.no_grad():  # no gradient computation during inference\n",
    "    for batch in test_predict_loader:\n",
    "        # If dataset returns only images without labels:\n",
    "        if isinstance(batch, (list, tuple)):\n",
    "            images = batch[0]  # in case dataset returns (img, label) tuple\n",
    "        else:\n",
    "            images = batch\n",
    "        \n",
    "        images = images.to(device)\n",
    "        \n",
    "        # Forward pass\n",
    "        outputs = model(images)\n",
    "        \n",
    "        # Get predicted classes\n",
    "        _, preds = torch.max(outputs, dim=1)\n",
    "        \n",
    "        # Move predictions to CPU and store\n",
    "        all_preds.append(preds.cpu())\n",
    "\n",
    "# Concatenate all batches\n",
    "all_preds = torch.cat(all_preds)\n",
    "\n",
    "print(all_preds.shape)  # should be (number_of_test_images,)\n",
    "print(all_preds)"
   ]
  },
  {
   "cell_type": "code",
   "execution_count": 46,
   "id": "6e8d59aa-7043-4e98-ace1-8297c2de0c6f",
   "metadata": {
    "execution": {
     "iopub.execute_input": "2025-04-30T17:28:37.153715Z",
     "iopub.status.busy": "2025-04-30T17:28:37.153199Z",
     "iopub.status.idle": "2025-04-30T17:28:37.188962Z",
     "shell.execute_reply": "2025-04-30T17:28:37.188124Z",
     "shell.execute_reply.started": "2025-04-30T17:28:37.153684Z"
    },
    "tags": []
   },
   "outputs": [],
   "source": [
    "predictions = all_preds.numpy()\n",
    "\n",
    "# Create DataFrame with the exact required column names\n",
    "df = pd.DataFrame({\n",
    "    'id': list(range(len(predictions))),\n",
    "    'target': predictions\n",
    "})\n",
    "\n",
    "# Save to CSV\n",
    "df.to_csv('predictions_15.csv', index=False)"
   ]
  },
  {
   "cell_type": "code",
   "execution_count": 4,
   "id": "d64d2ef7-d961-4027-a279-dc4906a0454d",
   "metadata": {},
   "outputs": [],
   "source": [
    "#модель, которая выбила лучший скор, находится в блоке \"обучаем более сложную модель\". При построени модели и ее структуры я значительно опирался\n",
    "#на структуры моделей resnet. Так приведеднные ниже блоки - резидуальные соединения, которые помогают бороться с затуханием градиента и ускоряют сходимость\n",
    "#self.res1 = nn.Sequential(conv_block(128, 128), conv_block(128, 128))\n",
    "#self.res2 = nn.Sequential(conv_block(512, 512), conv_block(512, 512))\n",
    "#self.res3 = nn.Sequential(conv_block(1028, 1028), conv_block(1028, 1028))\n",
    "#Также я использовал в модели конволюционные блоки на разных уровнях (это помогает извлекать более высокоуровневые признаки)\n",
    "#На каждом уровне используется MaxPooling, чтобы уменьшить размерность и помочь сети извлекать более абстрактные признаки.\n",
    "#еще использовался следующий классификатор self.classifier = nn.Sequential(nn.MaxPool2d(2),nn.Flatten(), nn.Linear(1028, num_classes))\n",
    "#В этом слое макспул перед флэттэном позволяет еще сильнее уменьшить размерность, чтобы потом все равернуть в одномерные вектор и подать в полносвязный слой\n",
    "#форвард пасс, построенный в этой модели, последовательно применяет свертки, резидуальные соединения и пулинг\n",
    "#После каждой пары сверток добавляется пропуск соединений, чтобы облегчить обучение и позволить сети учиться с минимальными потерями информации."
   ]
  },
  {
   "cell_type": "code",
   "execution_count": null,
   "id": "461a46da-4ff2-4bd3-be13-5ea192695962",
   "metadata": {},
   "outputs": [],
   "source": []
  },
  {
   "cell_type": "code",
   "execution_count": null,
   "id": "ad0b58a6-18dd-4b60-9983-05803d6a0a33",
   "metadata": {},
   "outputs": [],
   "source": []
  },
  {
   "cell_type": "code",
   "execution_count": null,
   "id": "465c38e2-585f-42a4-8a02-de8b93cbd7b5",
   "metadata": {},
   "outputs": [],
   "source": []
  },
  {
   "cell_type": "code",
   "execution_count": null,
   "id": "980c755c-3ca7-4847-a81d-2b793bb387eb",
   "metadata": {},
   "outputs": [],
   "source": []
  },
  {
   "cell_type": "code",
   "execution_count": null,
   "id": "a1d638d5-2796-4bdb-aaee-de1b5698ed74",
   "metadata": {},
   "outputs": [],
   "source": []
  },
  {
   "cell_type": "code",
   "execution_count": null,
   "id": "a33740e6-f1b9-4bc5-ad18-092347ca5f4c",
   "metadata": {},
   "outputs": [],
   "source": []
  },
  {
   "cell_type": "code",
   "execution_count": null,
   "id": "9c20d4fe-276d-4479-b806-0086bef6492b",
   "metadata": {},
   "outputs": [],
   "source": []
  },
  {
   "cell_type": "code",
   "execution_count": null,
   "id": "48f1d7ef-80ed-4bfa-a6eb-c5c9a56f4593",
   "metadata": {},
   "outputs": [],
   "source": []
  },
  {
   "cell_type": "code",
   "execution_count": null,
   "id": "0b542622-e35a-4903-9685-fe0d5f98afa1",
   "metadata": {},
   "outputs": [],
   "source": []
  },
  {
   "cell_type": "code",
   "execution_count": null,
   "id": "acee6431-fb7a-401d-8dc9-c803d6bcd073",
   "metadata": {},
   "outputs": [],
   "source": []
  },
  {
   "cell_type": "code",
   "execution_count": null,
   "id": "243fc340-2e5c-4494-ae6b-cfc1eb4b911c",
   "metadata": {},
   "outputs": [],
   "source": []
  },
  {
   "cell_type": "code",
   "execution_count": null,
   "id": "fff1a86b-75b6-4c10-a679-daf2310c1e60",
   "metadata": {},
   "outputs": [],
   "source": []
  },
  {
   "cell_type": "code",
   "execution_count": null,
   "id": "db05be16-923e-4800-9bf0-5009ecea3cbf",
   "metadata": {},
   "outputs": [],
   "source": []
  },
  {
   "cell_type": "code",
   "execution_count": null,
   "id": "0dca03a0-e7e1-4316-a93b-acf5f7228cc4",
   "metadata": {},
   "outputs": [],
   "source": []
  }
 ],
 "metadata": {
  "kernelspec": {
   "display_name": "Python 3 (ipykernel)",
   "language": "python",
   "name": "python3"
  },
  "language_info": {
   "codemirror_mode": {
    "name": "ipython",
    "version": 3
   },
   "file_extension": ".py",
   "mimetype": "text/x-python",
   "name": "python",
   "nbconvert_exporter": "python",
   "pygments_lexer": "ipython3",
   "version": "3.12.4"
  }
 },
 "nbformat": 4,
 "nbformat_minor": 5
}
